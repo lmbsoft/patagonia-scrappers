{
 "cells": [
  {
   "cell_type": "markdown",
   "metadata": {},
   "source": [
    "## Librerias"
   ]
  },
  {
   "cell_type": "code",
   "execution_count": 2,
   "metadata": {},
   "outputs": [],
   "source": [
    "import pandas as pd\n",
    "from ppi_client.api.constants import ACCOUNTDATA_TYPE_ACCOUNT_NOTIFICATION, ACCOUNTDATA_TYPE_PUSH_NOTIFICATION, \\\n",
    "    ACCOUNTDATA_TYPE_ORDER_NOTIFICATION\n",
    "from ppi_client.models.account_movements import AccountMovements\n",
    "from ppi_client.models.order import Order\n",
    "from ppi_client.ppi import PPI\n",
    "from ppi_client.models.disclaimer import Disclaimer\n",
    "from ppi_client.models.instrument import Instrument\n",
    "from datetime import datetime, timedelta\n",
    "import asyncio\n",
    "import json\n",
    "import traceback\n",
    "import os\n"
   ]
  },
  {
   "cell_type": "code",
   "execution_count": 3,
   "metadata": {},
   "outputs": [],
   "source": [
    "# Change sandbox variable to False to connect to production environment\n",
    "ppi = PPI(sandbox=False)"
   ]
  },
  {
   "cell_type": "code",
   "execution_count": 4,
   "metadata": {},
   "outputs": [],
   "source": [
    "key_publica=\"TnAzYWFDU3JYZDZuVW82RE16RTc=\"\n",
    "key_privada=\"ODIxMzUxOTctZmMxNy00OGRhLWI2OTItNTc5MzFhMjZlMmZl\""
   ]
  },
  {
   "cell_type": "code",
   "execution_count": 9,
   "metadata": {},
   "outputs": [],
   "source": [
    "def account():\n",
    "    try:\n",
    "        # Change login credential to connect to the API\n",
    "        ppi.account.login_api(key_publica, key_privada)\n",
    "\n",
    "        # Getting accounts information\n",
    "        print(\"Getting accounts information\")\n",
    "        account_numbers = ppi.account.get_accounts()\n",
    "        for account in account_numbers:\n",
    "            print(account)\n",
    "        account_number = account_numbers[0]['accountNumber']\n",
    "    except Exception as message:\n",
    "        print(datetime.now())\n",
    "        print(message)\n",
    "\n"
   ]
  },
  {
   "cell_type": "code",
   "execution_count": 10,
   "metadata": {},
   "outputs": [
    {
     "name": "stdout",
     "output_type": "stream",
     "text": [
      "Getting accounts information\n",
      "{'accountNumber': '208466', 'name': 'Churrarin Nicolas Emiliano', 'officer': {'name': 'Portfolio Personal', 'eMail': 'consultas@portfoliopersonal.com', 'phone': '+5411 5252-7599'}, 'externalID': None}\n"
     ]
    }
   ],
   "source": [
    "account()"
   ]
  },
  {
   "cell_type": "code",
   "execution_count": 15,
   "metadata": {},
   "outputs": [],
   "source": [
    "def historic_Master_Data():\n",
    "# Ticker\n",
    "# Search Historic MarketData\n",
    "    print(\"\\nSearching MarketData\")\n",
    "    market_data = ppi.marketdata.search(\"GGAL\", \"Acciones\", \"INMEDIATA\", datetime(2025, 3, 1), datetime(2025, 3, 31))\n",
    "    for ins in market_data:\n",
    "        print(\"%s - %s - Volume %s - Opening %s - Min %s - Max %s\" % (\n",
    "                    ins['date'], ins['price'], ins['volume'], ins['openingPrice'], ins['min'], ins['max']))\n"
   ]
  },
  {
   "cell_type": "code",
   "execution_count": 16,
   "metadata": {},
   "outputs": [
    {
     "name": "stdout",
     "output_type": "stream",
     "text": [
      "\n",
      "Searching MarketData\n",
      "2025-03-05T00:00:00-03:00 - 7150 - Volume 1417838976 - Opening 7050 - Min 6610 - Max 7190\n",
      "2025-03-06T00:00:00-03:00 - 7070 - Volume 1326868864 - Opening 6950 - Min 6950 - Max 7340\n",
      "2025-03-07T00:00:00-03:00 - 7000 - Volume 987421568 - Opening 7200 - Min 6830 - Max 7310\n",
      "2025-03-10T00:00:00-03:00 - 6610 - Volume 1074951424 - Opening 7000 - Min 6500 - Max 7000\n",
      "2025-03-11T00:00:00-03:00 - 6730 - Volume 1291722752 - Opening 6500 - Min 6500 - Max 6830\n",
      "2025-03-12T00:00:00-03:00 - 7110 - Volume 1356431744 - Opening 6840 - Min 6800 - Max 7200\n",
      "2025-03-13T00:00:00-03:00 - 7100 - Volume 923582144 - Opening 7100 - Min 6960 - Max 7200\n",
      "2025-03-14T00:00:00-03:00 - 7360 - Volume 950183744 - Opening 6900 - Min 6900 - Max 7400\n",
      "2025-03-17T00:00:00-03:00 - 7360 - Volume 835999232 - Opening 7400 - Min 7300 - Max 7430\n",
      "2025-03-18T00:00:00-03:00 - 7010 - Volume 750957504 - Opening 7000 - Min 6970 - Max 7160\n",
      "2025-03-19T00:00:00-03:00 - 7470 - Volume 1184191488 - Opening 7180 - Min 7180 - Max 7500\n",
      "2025-03-20T00:00:00-03:00 - 7260 - Volume 729893056 - Opening 7200 - Min 7200 - Max 7370\n",
      "2025-03-21T00:00:00-03:00 - 7510 - Volume 1525356800 - Opening 7290 - Min 7260 - Max 7540\n",
      "2025-03-25T00:00:00-03:00 - 7720 - Volume 754445888 - Opening 7520 - Min 7520 - Max 7740\n",
      "2025-03-26T00:00:00-03:00 - 7450 - Volume 562146816 - Opening 7700 - Min 7420 - Max 7730\n",
      "2025-03-27T00:00:00-03:00 - 7330 - Volume 554333696 - Opening 7700 - Min 7250 - Max 7750\n",
      "2025-03-28T00:00:00-03:00 - 7270 - Volume 756609984 - Opening 7300 - Min 7120 - Max 7340\n",
      "2025-03-31T00:00:00-03:00 - 7150 - Volume 1163622656 - Opening 7270 - Min 6970 - Max 7270\n"
     ]
    }
   ],
   "source": [
    "historic_Master_Data()"
   ]
  }
 ],
 "metadata": {
  "kernelspec": {
   "display_name": "venv",
   "language": "python",
   "name": "python3"
  },
  "language_info": {
   "codemirror_mode": {
    "name": "ipython",
    "version": 3
   },
   "file_extension": ".py",
   "mimetype": "text/x-python",
   "name": "python",
   "nbconvert_exporter": "python",
   "pygments_lexer": "ipython3",
   "version": "3.11.7"
  }
 },
 "nbformat": 4,
 "nbformat_minor": 2
}
