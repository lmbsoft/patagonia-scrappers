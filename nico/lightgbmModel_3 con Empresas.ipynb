{
 "cells": [
  {
   "cell_type": "markdown",
   "metadata": {},
   "source": [
    "## Librerias"
   ]
  },
  {
   "cell_type": "code",
   "execution_count": 1,
   "metadata": {},
   "outputs": [],
   "source": [
    "import pandas as pd\n",
    "import lightgbm as lgb\n",
    "import optuna\n",
    "import numpy as np\n",
    "import shap\n",
    "import matplotlib.pyplot as plt\n",
    "import joblib\n",
    "\n",
    "from sklearn.preprocessing import LabelEncoder\n",
    "from sklearn.preprocessing import RobustScaler\n",
    "from sklearn.metrics import accuracy_score, f1_score,classification_report\n",
    "from sklearn.model_selection import TimeSeriesSplit\n",
    "from sklearn.preprocessing import OneHotEncoder\n",
    "from sklearn.compose import ColumnTransformer\n",
    "from sklearn.metrics import precision_recall_fscore_support\n",
    "from tqdm import tqdm\n",
    "from imblearn.under_sampling import RandomUnderSampler\n",
    "\n",
    "\n",
    "scaler = RobustScaler()\n",
    "le = LabelEncoder()\n"
   ]
  },
  {
   "cell_type": "markdown",
   "metadata": {},
   "source": [
    "## Lectura del Archivo"
   ]
  },
  {
   "cell_type": "code",
   "execution_count": 2,
   "metadata": {},
   "outputs": [],
   "source": [
    "fileName= \"data_set_integrado_modelo_final_futuro_binario.csv\"\n",
    "path=\"../franco/\"\n",
    "\n",
    "# Read the CSV file\n",
    "df = pd.read_csv(path + fileName)\n",
    "df = df.sort_values(by=['fecha'])\n"
   ]
  },
  {
   "cell_type": "code",
   "execution_count": 3,
   "metadata": {},
   "outputs": [
    {
     "name": "stdout",
     "output_type": "stream",
     "text": [
      "Distribución de clases (%):\n",
      "label_t_plus_1\n",
      "NO_SUBE    54.073565\n",
      "SUBE       45.926435\n",
      "Name: proportion, dtype: float64\n"
     ]
    },
    {
     "data": {
      "image/png": "[encoded data removed]",
      "text/plain": [
       "<Figure size 640x480 with 1 Axes>"
      ]
     },
     "metadata": {},
     "output_type": "display_data"
    }
   ],
   "source": [
    "#Analisis basico de distribucion\n",
    "\n",
    "\n",
    "# Contar muestras por clase\n",
    "class_distribution = df['label_t_plus_1'].value_counts(normalize=True) * 100\n",
    "print(\"Distribución de clases (%):\")\n",
    "print(class_distribution)\n",
    "\n",
    "# Gráfico de barras\n",
    "class_distribution.plot(kind='bar', color=['skyblue', 'salmon'])\n",
    "plt.title(\"Balance de Clases (SUBE vs NO_SUBE)\")\n",
    "plt.ylabel(\"Porcentaje (%)\")\n",
    "plt.xticks(rotation=0)\n",
    "plt.show()"
   ]
  },
  {
   "cell_type": "code",
   "execution_count": 4,
   "metadata": {},
   "outputs": [
    {
     "ename": "NameError",
     "evalue": "name 'balance_por_empresa' is not defined",
     "output_type": "error",
     "traceback": [
      "\u001b[0;31m---------------------------------------------------------------------------\u001b[0m",
      "\u001b[0;31mNameError\u001b[0m                                 Traceback (most recent call last)",
      "\u001b[0;32m/tmp/ipykernel_142842/369203038.py\u001b[0m in \u001b[0;36m<cell line: 0>\u001b[0;34m()\u001b[0m\n\u001b[1;32m      1\u001b[0m \u001b[0;31m# Visualizacion  balance por empresa\u001b[0m\u001b[0;34m\u001b[0m\u001b[0;34m\u001b[0m\u001b[0m\n\u001b[0;32m----> 2\u001b[0;31m balance_por_empresa[['%_SUBE', '%_NO_SUBE']].plot(\n\u001b[0m\u001b[1;32m      3\u001b[0m     \u001b[0mkind\u001b[0m\u001b[0;34m=\u001b[0m\u001b[0;34m'bar'\u001b[0m\u001b[0;34m,\u001b[0m\u001b[0;34m\u001b[0m\u001b[0;34m\u001b[0m\u001b[0m\n\u001b[1;32m      4\u001b[0m     \u001b[0mstacked\u001b[0m\u001b[0;34m=\u001b[0m\u001b[0;32mTrue\u001b[0m\u001b[0;34m,\u001b[0m\u001b[0;34m\u001b[0m\u001b[0;34m\u001b[0m\u001b[0m\n\u001b[1;32m      5\u001b[0m     \u001b[0mcolor\u001b[0m\u001b[0;34m=\u001b[0m\u001b[0;34m[\u001b[0m\u001b[0;34m'#4CAF50'\u001b[0m\u001b[0;34m,\u001b[0m \u001b[0;34m'#F44336'\u001b[0m\u001b[0;34m]\u001b[0m\u001b[0;34m,\u001b[0m  \u001b[0;31m# Verde: SUBE, Rojo: NO_SUBE\u001b[0m\u001b[0;34m\u001b[0m\u001b[0;34m\u001b[0m\u001b[0m\n",
      "\u001b[0;31mNameError\u001b[0m: name 'balance_por_empresa' is not defined"
     ]
    }
   ],
   "source": [
    "# Visualizacion  balance por empresa\n",
    "balance_por_empresa[['%_SUBE', '%_NO_SUBE']].plot(\n",
    "    kind='bar', \n",
    "    stacked=True, \n",
    "    color=['#4CAF50', '#F44336'],  # Verde: SUBE, Rojo: NO_SUBE\n",
    "    figsize=(12, 6)\n",
    ")\n",
    "plt.axhline(y=50, color='gray', linestyle='--', label='Balance ideal (50/50)')\n",
    "plt.title('Balance de Clases por Empresa')\n",
    "plt.ylabel('Proporción (%)')\n",
    "plt.legend(title='Clase')\n",
    "plt.show()"
   ]
  },
  {
   "cell_type": "markdown",
   "metadata": {},
   "source": [
    "Codifico el target y empresas"
   ]
  },
  {
   "cell_type": "code",
   "execution_count": 5,
   "metadata": {},
   "outputs": [],
   "source": [
    "# Codificar target\n",
    "df['target'] = df['label_t_plus_1'].apply(lambda x: 1 if x == 'SUBE' else 0)"
   ]
  },
  {
   "cell_type": "markdown",
   "metadata": {},
   "source": [
    "Crear características temporales específicas por empresa"
   ]
  },
  {
   "cell_type": "code",
   "execution_count": 7,
   "metadata": {},
   "outputs": [
    {
     "name": "stderr",
     "output_type": "stream",
     "text": [
      "Calculando rolling features: 100%|██████████| 9/9 [00:00<00:00, 76.63it/s]\n"
     ]
    }
   ],
   "source": [
    "# Features de rolling por empresa\n",
    "for empresa in tqdm(df['nombre'].unique(), desc=\"Calculando rolling features\"):\n",
    "    mask = df['nombre'] == empresa\n",
    "    df.loc[mask, 'volumen_media_7d'] = df.loc[mask, 'volumen_operado'].rolling(7).mean()\n",
    "    df.loc[mask, 'retorno_5d'] = df.loc[mask, 'precio_cierre'].pct_change(5)\n",
    "    df.loc[mask, 'sentimiento_pos_media_5d'] = df.loc[mask, 'suma_score_sentimiento_positivas'].rolling(5).mean()\n"
   ]
  },
  {
   "cell_type": "code",
   "execution_count": 8,
   "metadata": {},
   "outputs": [],
   "source": [
    "# Interacciones clave\n",
    "df['sentimiento_volatilidad'] = df['suma_score_sentimiento_positivas'] * df['precio_cierre_std_5d']\n",
    "df['volumen_sentimiento'] = df['volumen_operado'] * df['suma_score_sentimiento_positivas']"
   ]
  },
  {
   "cell_type": "markdown",
   "metadata": {},
   "source": [
    "#  DIVISIÓN TEMPORAL ESTRATIFICADA POR EMPRESA"
   ]
  },
  {
   "cell_type": "code",
   "execution_count": 9,
   "metadata": {},
   "outputs": [],
   "source": [
    "def temporal_train_test_split(df, train_size=0.8):\n",
    "    \"\"\"División temporal manteniendo proporción de empresas en train/test\"\"\"\n",
    "    fechas_unicas = df['fecha'].sort_values().unique()\n",
    "    split_idx = int(len(fechas_unicas) * train_size)\n",
    "    train_dates = fechas_unicas[:split_idx]\n",
    "    test_dates = fechas_unicas[split_idx:]\n",
    "    \n",
    "    train_mask = df['fecha'].isin(train_dates)\n",
    "    test_mask = df['fecha'].isin(test_dates)\n",
    "    \n",
    "    return train_mask, test_mask"
   ]
  },
  {
   "cell_type": "code",
   "execution_count": 179,
   "metadata": {},
   "outputs": [
    {
     "data": {
      "text/html": [
       "<div>\n",
       "<style scoped>\n",
       "    .dataframe tbody tr th:only-of-type {\n",
       "        vertical-align: middle;\n",
       "    }\n",
       "\n",
       "    .dataframe tbody tr th {\n",
       "        vertical-align: top;\n",
       "    }\n",
       "\n",
       "    .dataframe thead th {\n",
       "        text-align: right;\n",
       "    }\n",
       "</style>\n",
       "<table border=\"1\" class=\"dataframe\">\n",
       "  <thead>\n",
       "    <tr style=\"text-align: right;\">\n",
       "      <th></th>\n",
       "      <th>id_cotizacion</th>\n",
       "      <th>id_empresa</th>\n",
       "      <th>fecha</th>\n",
       "      <th>precio_apertura</th>\n",
       "      <th>precio_cierre</th>\n",
       "      <th>precio_max</th>\n",
       "      <th>precio_min</th>\n",
       "      <th>volumen_operado</th>\n",
       "      <th>variacion_porcentaje</th>\n",
       "      <th>nombre</th>\n",
       "      <th>...</th>\n",
       "      <th>total_noticias_negativas_std_5d</th>\n",
       "      <th>ratio_sent_positivo_negativo</th>\n",
       "      <th>diff_score_sentimiento</th>\n",
       "      <th>label_t_plus_1</th>\n",
       "      <th>target</th>\n",
       "      <th>volumen_media_7d</th>\n",
       "      <th>retorno_5d</th>\n",
       "      <th>sentimiento_pos_media_5d</th>\n",
       "      <th>sentimiento_volatilidad</th>\n",
       "      <th>volumen_sentimiento</th>\n",
       "    </tr>\n",
       "  </thead>\n",
       "  <tbody>\n",
       "    <tr>\n",
       "      <th>1228</th>\n",
       "      <td>2822</td>\n",
       "      <td>13</td>\n",
       "      <td>2025-01-21</td>\n",
       "      <td>15.65</td>\n",
       "      <td>15.75</td>\n",
       "      <td>15.90</td>\n",
       "      <td>15.50</td>\n",
       "      <td>159903.66</td>\n",
       "      <td>0.000000</td>\n",
       "      <td>MELID</td>\n",
       "      <td>...</td>\n",
       "      <td>22.241852</td>\n",
       "      <td>-0.962389</td>\n",
       "      <td>77.3342</td>\n",
       "      <td>NO_SUBE</td>\n",
       "      <td>0</td>\n",
       "      <td>230409.561429</td>\n",
       "      <td>0.039604</td>\n",
       "      <td>43.36208</td>\n",
       "      <td>1.038646</td>\n",
       "      <td>6.064506e+06</td>\n",
       "    </tr>\n",
       "    <tr>\n",
       "      <th>904</th>\n",
       "      <td>2268</td>\n",
       "      <td>12</td>\n",
       "      <td>2025-01-21</td>\n",
       "      <td>12.90</td>\n",
       "      <td>12.75</td>\n",
       "      <td>12.90</td>\n",
       "      <td>12.70</td>\n",
       "      <td>531378.19</td>\n",
       "      <td>-0.390625</td>\n",
       "      <td>KOD</td>\n",
       "      <td>...</td>\n",
       "      <td>22.241852</td>\n",
       "      <td>-0.962389</td>\n",
       "      <td>77.3342</td>\n",
       "      <td>NO_SUBE</td>\n",
       "      <td>0</td>\n",
       "      <td>332880.121429</td>\n",
       "      <td>0.003937</td>\n",
       "      <td>43.36208</td>\n",
       "      <td>1.896300</td>\n",
       "      <td>2.015305e+07</td>\n",
       "    </tr>\n",
       "    <tr>\n",
       "      <th>1876</th>\n",
       "      <td>3930</td>\n",
       "      <td>15</td>\n",
       "      <td>2025-01-21</td>\n",
       "      <td>5.93</td>\n",
       "      <td>6.02</td>\n",
       "      <td>6.03</td>\n",
       "      <td>5.85</td>\n",
       "      <td>114388.03</td>\n",
       "      <td>0.668896</td>\n",
       "      <td>NVDAD</td>\n",
       "      <td>...</td>\n",
       "      <td>22.241852</td>\n",
       "      <td>-0.962389</td>\n",
       "      <td>77.3342</td>\n",
       "      <td>SUBE</td>\n",
       "      <td>1</td>\n",
       "      <td>213155.901429</td>\n",
       "      <td>0.067376</td>\n",
       "      <td>43.36208</td>\n",
       "      <td>3.928592</td>\n",
       "      <td>4.338280e+06</td>\n",
       "    </tr>\n",
       "    <tr>\n",
       "      <th>259</th>\n",
       "      <td>1160</td>\n",
       "      <td>10</td>\n",
       "      <td>2025-01-21</td>\n",
       "      <td>11.75</td>\n",
       "      <td>11.30</td>\n",
       "      <td>11.75</td>\n",
       "      <td>11.15</td>\n",
       "      <td>293465.06</td>\n",
       "      <td>-4.237288</td>\n",
       "      <td>AAPLD</td>\n",
       "      <td>...</td>\n",
       "      <td>22.241852</td>\n",
       "      <td>-0.962389</td>\n",
       "      <td>77.3342</td>\n",
       "      <td>SUBE</td>\n",
       "      <td>1</td>\n",
       "      <td>145337.907143</td>\n",
       "      <td>-0.054393</td>\n",
       "      <td>43.36208</td>\n",
       "      <td>12.142244</td>\n",
       "      <td>1.112996e+07</td>\n",
       "    </tr>\n",
       "    <tr>\n",
       "      <th>2520</th>\n",
       "      <td>5037</td>\n",
       "      <td>17</td>\n",
       "      <td>2025-01-21</td>\n",
       "      <td>19.35</td>\n",
       "      <td>19.55</td>\n",
       "      <td>19.60</td>\n",
       "      <td>19.00</td>\n",
       "      <td>437617.41</td>\n",
       "      <td>1.822917</td>\n",
       "      <td>VISTD</td>\n",
       "      <td>...</td>\n",
       "      <td>22.241852</td>\n",
       "      <td>-0.962389</td>\n",
       "      <td>77.3342</td>\n",
       "      <td>SUBE</td>\n",
       "      <td>1</td>\n",
       "      <td>474412.171429</td>\n",
       "      <td>-0.015113</td>\n",
       "      <td>43.36208</td>\n",
       "      <td>16.057082</td>\n",
       "      <td>1.659708e+07</td>\n",
       "    </tr>\n",
       "    <tr>\n",
       "      <th>...</th>\n",
       "      <td>...</td>\n",
       "      <td>...</td>\n",
       "      <td>...</td>\n",
       "      <td>...</td>\n",
       "      <td>...</td>\n",
       "      <td>...</td>\n",
       "      <td>...</td>\n",
       "      <td>...</td>\n",
       "      <td>...</td>\n",
       "      <td>...</td>\n",
       "      <td>...</td>\n",
       "      <td>...</td>\n",
       "      <td>...</td>\n",
       "      <td>...</td>\n",
       "      <td>...</td>\n",
       "      <td>...</td>\n",
       "      <td>...</td>\n",
       "      <td>...</td>\n",
       "      <td>...</td>\n",
       "      <td>...</td>\n",
       "      <td>...</td>\n",
       "    </tr>\n",
       "    <tr>\n",
       "      <th>1292</th>\n",
       "      <td>5750</td>\n",
       "      <td>13</td>\n",
       "      <td>2025-04-29</td>\n",
       "      <td>18.85</td>\n",
       "      <td>18.85</td>\n",
       "      <td>18.85</td>\n",
       "      <td>18.50</td>\n",
       "      <td>75948.05</td>\n",
       "      <td>NaN</td>\n",
       "      <td>MELID</td>\n",
       "      <td>...</td>\n",
       "      <td>9.884331</td>\n",
       "      <td>-1.032572</td>\n",
       "      <td>90.7720</td>\n",
       "      <td>NO_SUBE</td>\n",
       "      <td>0</td>\n",
       "      <td>56496.792857</td>\n",
       "      <td>0.047222</td>\n",
       "      <td>42.97250</td>\n",
       "      <td>13.601469</td>\n",
       "      <td>3.502215e+06</td>\n",
       "    </tr>\n",
       "    <tr>\n",
       "      <th>968</th>\n",
       "      <td>5754</td>\n",
       "      <td>12</td>\n",
       "      <td>2025-04-29</td>\n",
       "      <td>14.55</td>\n",
       "      <td>14.55</td>\n",
       "      <td>14.65</td>\n",
       "      <td>14.35</td>\n",
       "      <td>18251.60</td>\n",
       "      <td>NaN</td>\n",
       "      <td>KOD</td>\n",
       "      <td>...</td>\n",
       "      <td>9.884331</td>\n",
       "      <td>-1.032572</td>\n",
       "      <td>90.7720</td>\n",
       "      <td>NO_SUBE</td>\n",
       "      <td>0</td>\n",
       "      <td>66207.984286</td>\n",
       "      <td>-0.030000</td>\n",
       "      <td>42.97250</td>\n",
       "      <td>9.863289</td>\n",
       "      <td>8.416415e+05</td>\n",
       "    </tr>\n",
       "    <tr>\n",
       "      <th>1940</th>\n",
       "      <td>5752</td>\n",
       "      <td>15</td>\n",
       "      <td>2025-04-29</td>\n",
       "      <td>4.64</td>\n",
       "      <td>4.60</td>\n",
       "      <td>4.65</td>\n",
       "      <td>4.56</td>\n",
       "      <td>17817.76</td>\n",
       "      <td>NaN</td>\n",
       "      <td>NVDAD</td>\n",
       "      <td>...</td>\n",
       "      <td>9.884331</td>\n",
       "      <td>-1.032572</td>\n",
       "      <td>90.7720</td>\n",
       "      <td>NO_SUBE</td>\n",
       "      <td>0</td>\n",
       "      <td>86046.322857</td>\n",
       "      <td>0.090047</td>\n",
       "      <td>42.97250</td>\n",
       "      <td>3.366587</td>\n",
       "      <td>8.216357e+05</td>\n",
       "    </tr>\n",
       "    <tr>\n",
       "      <th>1616</th>\n",
       "      <td>5753</td>\n",
       "      <td>14</td>\n",
       "      <td>2025-04-29</td>\n",
       "      <td>13.20</td>\n",
       "      <td>13.40</td>\n",
       "      <td>13.40</td>\n",
       "      <td>13.15</td>\n",
       "      <td>10300.35</td>\n",
       "      <td>NaN</td>\n",
       "      <td>MSFTD</td>\n",
       "      <td>...</td>\n",
       "      <td>9.884331</td>\n",
       "      <td>-1.032572</td>\n",
       "      <td>90.7720</td>\n",
       "      <td>NO_SUBE</td>\n",
       "      <td>0</td>\n",
       "      <td>25238.857143</td>\n",
       "      <td>0.080645</td>\n",
       "      <td>42.97250</td>\n",
       "      <td>8.408568</td>\n",
       "      <td>4.749831e+05</td>\n",
       "    </tr>\n",
       "    <tr>\n",
       "      <th>2908</th>\n",
       "      <td>5751</td>\n",
       "      <td>18</td>\n",
       "      <td>2025-04-29</td>\n",
       "      <td>11.05</td>\n",
       "      <td>10.85</td>\n",
       "      <td>11.05</td>\n",
       "      <td>11.05</td>\n",
       "      <td>110.50</td>\n",
       "      <td>NaN</td>\n",
       "      <td>XOMD</td>\n",
       "      <td>...</td>\n",
       "      <td>9.884331</td>\n",
       "      <td>-1.032572</td>\n",
       "      <td>90.7720</td>\n",
       "      <td>NO_SUBE</td>\n",
       "      <td>0</td>\n",
       "      <td>2844.078571</td>\n",
       "      <td>-0.004587</td>\n",
       "      <td>42.97250</td>\n",
       "      <td>4.998563</td>\n",
       "      <td>5.095520e+03</td>\n",
       "    </tr>\n",
       "  </tbody>\n",
       "</table>\n",
       "<p>578 rows × 82 columns</p>\n",
       "</div>"
      ],
      "text/plain": [
       "      id_cotizacion  id_empresa       fecha  precio_apertura  precio_cierre  \\\n",
       "1228           2822          13  2025-01-21            15.65          15.75   \n",
       "904            2268          12  2025-01-21            12.90          12.75   \n",
       "1876           3930          15  2025-01-21             5.93           6.02   \n",
       "259            1160          10  2025-01-21            11.75          11.30   \n",
       "2520           5037          17  2025-01-21            19.35          19.55   \n",
       "...             ...         ...         ...              ...            ...   \n",
       "1292           5750          13  2025-04-29            18.85          18.85   \n",
       "968            5754          12  2025-04-29            14.55          14.55   \n",
       "1940           5752          15  2025-04-29             4.64           4.60   \n",
       "1616           5753          14  2025-04-29            13.20          13.40   \n",
       "2908           5751          18  2025-04-29            11.05          10.85   \n",
       "\n",
       "      precio_max  precio_min  volumen_operado  variacion_porcentaje nombre  \\\n",
       "1228       15.90       15.50        159903.66              0.000000  MELID   \n",
       "904        12.90       12.70        531378.19             -0.390625    KOD   \n",
       "1876        6.03        5.85        114388.03              0.668896  NVDAD   \n",
       "259        11.75       11.15        293465.06             -4.237288  AAPLD   \n",
       "2520       19.60       19.00        437617.41              1.822917  VISTD   \n",
       "...          ...         ...              ...                   ...    ...   \n",
       "1292       18.85       18.50         75948.05                   NaN  MELID   \n",
       "968        14.65       14.35         18251.60                   NaN    KOD   \n",
       "1940        4.65        4.56         17817.76                   NaN  NVDAD   \n",
       "1616       13.40       13.15         10300.35                   NaN  MSFTD   \n",
       "2908       11.05       11.05           110.50                   NaN   XOMD   \n",
       "\n",
       "      ... total_noticias_negativas_std_5d  ratio_sent_positivo_negativo  \\\n",
       "1228  ...                       22.241852                     -0.962389   \n",
       "904   ...                       22.241852                     -0.962389   \n",
       "1876  ...                       22.241852                     -0.962389   \n",
       "259   ...                       22.241852                     -0.962389   \n",
       "2520  ...                       22.241852                     -0.962389   \n",
       "...   ...                             ...                           ...   \n",
       "1292  ...                        9.884331                     -1.032572   \n",
       "968   ...                        9.884331                     -1.032572   \n",
       "1940  ...                        9.884331                     -1.032572   \n",
       "1616  ...                        9.884331                     -1.032572   \n",
       "2908  ...                        9.884331                     -1.032572   \n",
       "\n",
       "      diff_score_sentimiento  label_t_plus_1  target  volumen_media_7d  \\\n",
       "1228                 77.3342         NO_SUBE       0     230409.561429   \n",
       "904                  77.3342         NO_SUBE       0     332880.121429   \n",
       "1876                 77.3342            SUBE       1     213155.901429   \n",
       "259                  77.3342            SUBE       1     145337.907143   \n",
       "2520                 77.3342            SUBE       1     474412.171429   \n",
       "...                      ...             ...     ...               ...   \n",
       "1292                 90.7720         NO_SUBE       0      56496.792857   \n",
       "968                  90.7720         NO_SUBE       0      66207.984286   \n",
       "1940                 90.7720         NO_SUBE       0      86046.322857   \n",
       "1616                 90.7720         NO_SUBE       0      25238.857143   \n",
       "2908                 90.7720         NO_SUBE       0       2844.078571   \n",
       "\n",
       "     retorno_5d sentimiento_pos_media_5d  sentimiento_volatilidad  \\\n",
       "1228   0.039604                 43.36208                 1.038646   \n",
       "904    0.003937                 43.36208                 1.896300   \n",
       "1876   0.067376                 43.36208                 3.928592   \n",
       "259   -0.054393                 43.36208                12.142244   \n",
       "2520  -0.015113                 43.36208                16.057082   \n",
       "...         ...                      ...                      ...   \n",
       "1292   0.047222                 42.97250                13.601469   \n",
       "968   -0.030000                 42.97250                 9.863289   \n",
       "1940   0.090047                 42.97250                 3.366587   \n",
       "1616   0.080645                 42.97250                 8.408568   \n",
       "2908  -0.004587                 42.97250                 4.998563   \n",
       "\n",
       "      volumen_sentimiento  \n",
       "1228         6.064506e+06  \n",
       "904          2.015305e+07  \n",
       "1876         4.338280e+06  \n",
       "259          1.112996e+07  \n",
       "2520         1.659708e+07  \n",
       "...                   ...  \n",
       "1292         3.502215e+06  \n",
       "968          8.416415e+05  \n",
       "1940         8.216357e+05  \n",
       "1616         4.749831e+05  \n",
       "2908         5.095520e+03  \n",
       "\n",
       "[578 rows x 82 columns]"
      ]
     },
     "execution_count": 179,
     "metadata": {},
     "output_type": "execute_result"
    }
   ],
   "source": [
    "X_test"
   ]
  },
  {
   "cell_type": "code",
   "execution_count": 11,
   "metadata": {},
   "outputs": [
    {
     "name": "stdout",
     "output_type": "stream",
     "text": [
      "\n",
      "Distribución de empresas en test:\n",
      "nombre\n",
      "MELID    65\n",
      "KOD      65\n",
      "NVDAD    65\n",
      "AAPLD    65\n",
      "VISTD    65\n",
      "MSFTD    65\n",
      "XOMD     65\n",
      "DESPD    62\n",
      "TEND     61\n",
      "Name: count, dtype: int64\n"
     ]
    }
   ],
   "source": [
    "train_mask, test_mask = temporal_train_test_split(df)\n",
    "X_train, X_test = df.loc[train_mask], df.loc[test_mask]\n",
    "y_train, y_test = df.loc[train_mask, 'target'], df.loc[test_mask, 'target']\n",
    "\n",
    "# Verificar distribución de empresas\n",
    "print(\"\\nDistribución de empresas en test:\")\n",
    "print(X_test['nombre'].value_counts())"
   ]
  },
  {
   "cell_type": "markdown",
   "metadata": {},
   "source": [
    "# BALANCEO DE CLASES Y PREPROCESAMIENTO"
   ]
  },
  {
   "cell_type": "code",
   "execution_count": 12,
   "metadata": {},
   "outputs": [],
   "source": [
    "# Balancear solo el conjunto de entrenamiento\n",
    "rus = RandomUnderSampler(random_state=42)\n",
    "X_resampled, y_resampled = rus.fit_resample(X_train, y_train)\n",
    "\n",
    "# Preprocesamiento\n",
    "numeric_features = ['precio_cierre', 'volumen_operado', 'suma_score_sentimiento_positivas', \n",
    "                   'volumen_media_7d', 'retorno_5d', 'sentimiento_volatilidad']\n",
    "categorical_features = ['nombre']\n",
    "\n",
    "preprocessor = ColumnTransformer(\n",
    "    transformers=[\n",
    "        ('num', RobustScaler(), numeric_features),\n",
    "        ('cat', OneHotEncoder(handle_unknown='ignore'), categorical_features)\n",
    "    ])\n",
    "\n",
    "X_train_processed = preprocessor.fit_transform(X_resampled)\n",
    "X_test_processed = preprocessor.transform(X_test)\n",
    "\n"
   ]
  },
  {
   "cell_type": "code",
   "execution_count": 13,
   "metadata": {},
   "outputs": [],
   "source": [
    "# Obtener nombres de features\n",
    "cat_features = preprocessor.named_transformers_['cat'].get_feature_names_out(['nombre'])\n",
    "all_features = list(cat_features) + numeric_features"
   ]
  },
  {
   "cell_type": "markdown",
   "metadata": {},
   "source": [
    "# Optimizacion con OPTUNA"
   ]
  },
  {
   "cell_type": "code",
   "execution_count": 19,
   "metadata": {},
   "outputs": [],
   "source": [
    "def objective(trial):\n",
    "    params = {\n",
    "        'objective': 'binary',\n",
    "        'metric': 'binary_logloss',\n",
    "        'boosting_type': trial.suggest_categorical('boosting_type', ['gbdt', 'dart']),\n",
    "        'num_leaves': trial.suggest_int('num_leaves', 20, 100),\n",
    "        'learning_rate': trial.suggest_float('learning_rate', 0.01, 0.3, log=True),\n",
    "        'feature_fraction': trial.suggest_float('feature_fraction', 0.7, 1.0),\n",
    "        'bagging_fraction': trial.suggest_float('bagging_fraction', 0.7, 1.0),\n",
    "        'bagging_freq': trial.suggest_int('bagging_freq', 1, 10),\n",
    "        'lambda_l1': trial.suggest_float('lambda_l1', 0, 5),\n",
    "        'lambda_l2': trial.suggest_float('lambda_l2', 0, 5),\n",
    "        'min_data_in_leaf': trial.suggest_int('min_data_in_leaf', 10, 50),\n",
    "        'verbose': -1,\n",
    "        'class_weight': {0: 1, 1: trial.suggest_float('class_weight', 1.5, 3.0)}  # Peso ajustable para \"SUBE\"\n",
    "    }\n",
    "    \n",
    "    model = lgb.LGBMClassifier(**params)\n",
    "    model.fit(X_train_processed, y_resampled,\n",
    "              eval_set=[(X_test_processed, y_test)],\n",
    "              callbacks=[\n",
    "                        lgb.early_stopping(stopping_rounds=50),   # detiene si no mejora en 50 iter\n",
    "                        lgb.log_evaluation(period=10)             # imprime log cada 10 iter\n",
    "                        ]\n",
    "              )\n",
    "\n",
    "    \n",
    "    y_pred = model.predict(X_test_processed)\n",
    "    return f1_score(y_test, y_pred)  # Optimizamos para maximizar F1-Score"
   ]
  },
  {
   "cell_type": "code",
   "execution_count": 20,
   "metadata": {},
   "outputs": [
    {
     "name": "stderr",
     "output_type": "stream",
     "text": [
      "[I 2025-05-17 08:03:59,719] A new study created in memory with name: no-name-d140c59e-2e21-446c-a6ba-ed64b634cd1d\n"
     ]
    },
    {
     "data": {
      "application/vnd.jupyter.widget-view+json": {
       "model_id": "e5aa1ea0f13340ef889484ea49dbc8bb",
       "version_major": 2,
       "version_minor": 0
      },
      "text/plain": [
       "  0%|          | 0/30 [00:00<?, ?it/s]"
      ]
     },
     "metadata": {},
     "output_type": "display_data"
    },
    {
     "name": "stderr",
     "output_type": "stream",
     "text": [
      "/home/nico-churrarin/Escritorio/2023 Maestria Austral/2025/Fundamentos del Aprendizaje Automatico/Ptyhon_ambientes/venv/lib/python3.11/site-packages/lightgbm/callback.py:333: UserWarning: Early stopping is not available in dart mode\n",
      "  _log_warning(\"Early stopping is not available in dart mode\")\n"
     ]
    },
    {
     "name": "stdout",
     "output_type": "stream",
     "text": [
      "[10]\tvalid_0's binary_logloss: 0.947733\n",
      "[20]\tvalid_0's binary_logloss: 0.945717\n",
      "[30]\tvalid_0's binary_logloss: 0.943609\n",
      "[40]\tvalid_0's binary_logloss: 0.94204\n",
      "[50]\tvalid_0's binary_logloss: 0.896195\n"
     ]
    },
    {
     "name": "stderr",
     "output_type": "stream",
     "text": [
      "/home/nico-churrarin/Escritorio/2023 Maestria Austral/2025/Fundamentos del Aprendizaje Automatico/Ptyhon_ambientes/venv/lib/python3.11/site-packages/sklearn/utils/validation.py:2739: UserWarning: X does not have valid feature names, but LGBMClassifier was fitted with feature names\n",
      "  warnings.warn(\n"
     ]
    },
    {
     "name": "stdout",
     "output_type": "stream",
     "text": [
      "[60]\tvalid_0's binary_logloss: 0.856102\n",
      "[70]\tvalid_0's binary_logloss: 0.828075\n",
      "[80]\tvalid_0's binary_logloss: 0.832078\n",
      "[90]\tvalid_0's binary_logloss: 0.833827\n",
      "[100]\tvalid_0's binary_logloss: 0.811455\n",
      "[I 2025-05-17 08:04:00,566] Trial 0 finished with value: 0.5675340768277571 and parameters: {'boosting_type': 'dart', 'num_leaves': 82, 'learning_rate': 0.01047009237982434, 'feature_fraction': 0.933315950477811, 'bagging_fraction': 0.8714205778352543, 'bagging_freq': 1, 'lambda_l1': 4.9420290265103075, 'lambda_l2': 3.7039734675075255, 'min_data_in_leaf': 13, 'class_weight': 2.9837277240219815}. Best is trial 0 with value: 0.5675340768277571.\n",
      "Training until validation scores don't improve for 50 rounds\n",
      "[10]\tvalid_0's binary_logloss: 0.813247\n",
      "[20]\tvalid_0's binary_logloss: 0.821179\n",
      "[30]\tvalid_0's binary_logloss: 0.829076\n"
     ]
    },
    {
     "name": "stderr",
     "output_type": "stream",
     "text": [
      "/home/nico-churrarin/Escritorio/2023 Maestria Austral/2025/Fundamentos del Aprendizaje Automatico/Ptyhon_ambientes/venv/lib/python3.11/site-packages/sklearn/utils/validation.py:2739: UserWarning: X does not have valid feature names, but LGBMClassifier was fitted with feature names\n",
      "  warnings.warn(\n"
     ]
    },
    {
     "name": "stdout",
     "output_type": "stream",
     "text": [
      "[40]\tvalid_0's binary_logloss: 0.814113\n",
      "[50]\tvalid_0's binary_logloss: 0.824393\n",
      "[60]\tvalid_0's binary_logloss: 0.822723\n",
      "[70]\tvalid_0's binary_logloss: 0.826192\n",
      "[80]\tvalid_0's binary_logloss: 0.832028\n",
      "[90]\tvalid_0's binary_logloss: 0.83405\n",
      "Early stopping, best iteration is:\n",
      "[41]\tvalid_0's binary_logloss: 0.812033\n",
      "[I 2025-05-17 08:04:00,736] Trial 1 finished with value: 0.5493910690121786 and parameters: {'boosting_type': 'gbdt', 'num_leaves': 51, 'learning_rate': 0.08264217285266302, 'feature_fraction': 0.7907241037303078, 'bagging_fraction': 0.7010523330492269, 'bagging_freq': 3, 'lambda_l1': 0.5114225366325209, 'lambda_l2': 0.802537961542209, 'min_data_in_leaf': 43, 'class_weight': 2.129143417314727}. Best is trial 0 with value: 0.5675340768277571.\n",
      "Training until validation scores don't improve for 50 rounds\n",
      "[10]\tvalid_0's binary_logloss: 0.909172\n",
      "[20]\tvalid_0's binary_logloss: 0.878054\n",
      "[30]\tvalid_0's binary_logloss: 0.883239\n",
      "[40]\tvalid_0's binary_logloss: 0.893368\n",
      "[50]\tvalid_0's binary_logloss: 0.89442\n",
      "[60]\tvalid_0's binary_logloss: 0.905783\n"
     ]
    },
    {
     "name": "stderr",
     "output_type": "stream",
     "text": [
      "/home/nico-churrarin/Escritorio/2023 Maestria Austral/2025/Fundamentos del Aprendizaje Automatico/Ptyhon_ambientes/venv/lib/python3.11/site-packages/sklearn/utils/validation.py:2739: UserWarning: X does not have valid feature names, but LGBMClassifier was fitted with feature names\n",
      "  warnings.warn(\n"
     ]
    },
    {
     "name": "stdout",
     "output_type": "stream",
     "text": [
      "[70]\tvalid_0's binary_logloss: 0.89402\n",
      "Early stopping, best iteration is:\n",
      "[24]\tvalid_0's binary_logloss: 0.876008\n",
      "[I 2025-05-17 08:04:00,879] Trial 2 finished with value: 0.5671641791044776 and parameters: {'boosting_type': 'gbdt', 'num_leaves': 97, 'learning_rate': 0.13483201061833758, 'feature_fraction': 0.994920499724885, 'bagging_fraction': 0.826812315233228, 'bagging_freq': 9, 'lambda_l1': 4.763546604810831, 'lambda_l2': 0.9868501844675631, 'min_data_in_leaf': 48, 'class_weight': 2.6244952372024155}. Best is trial 0 with value: 0.5675340768277571.\n",
      "Training until validation scores don't improve for 50 rounds\n",
      "[10]\tvalid_0's binary_logloss: 0.781225\n",
      "[20]\tvalid_0's binary_logloss: 0.779383\n",
      "[30]\tvalid_0's binary_logloss: 0.780328\n",
      "[40]\tvalid_0's binary_logloss: 0.777753\n",
      "[50]\tvalid_0's binary_logloss: 0.775489\n",
      "[60]\tvalid_0's binary_logloss: 0.77574\n",
      "[70]\tvalid_0's binary_logloss: 0.777006\n",
      "[80]\tvalid_0's binary_logloss: 0.776153\n"
     ]
    },
    {
     "name": "stderr",
     "output_type": "stream",
     "text": [
      "/home/nico-churrarin/Escritorio/2023 Maestria Austral/2025/Fundamentos del Aprendizaje Automatico/Ptyhon_ambientes/venv/lib/python3.11/site-packages/sklearn/utils/validation.py:2739: UserWarning: X does not have valid feature names, but LGBMClassifier was fitted with feature names\n",
      "  warnings.warn(\n"
     ]
    },
    {
     "name": "stdout",
     "output_type": "stream",
     "text": [
      "[90]\tvalid_0's binary_logloss: 0.772044\n",
      "[100]\tvalid_0's binary_logloss: 0.774358\n",
      "Did not meet early stopping. Best iteration is:\n",
      "[89]\tvalid_0's binary_logloss: 0.771659\n",
      "[I 2025-05-17 08:04:01,129] Trial 3 finished with value: 0.5351351351351351 and parameters: {'boosting_type': 'gbdt', 'num_leaves': 52, 'learning_rate': 0.03231869559772719, 'feature_fraction': 0.7611751999976856, 'bagging_fraction': 0.8739272541500204, 'bagging_freq': 4, 'lambda_l1': 0.006237362589583406, 'lambda_l2': 2.4147986191671182, 'min_data_in_leaf': 46, 'class_weight': 1.7279343748336378}. Best is trial 0 with value: 0.5675340768277571.\n",
      "Training until validation scores don't improve for 50 rounds\n",
      "[10]\tvalid_0's binary_logloss: 0.860524\n",
      "[20]\tvalid_0's binary_logloss: 0.906312\n",
      "[30]\tvalid_0's binary_logloss: 0.8834\n",
      "[40]\tvalid_0's binary_logloss: 0.906802\n",
      "[50]\tvalid_0's binary_logloss: 0.912997\n",
      "Early stopping, best iteration is:\n",
      "[8]\tvalid_0's binary_logloss: 0.859391\n"
     ]
    },
    {
     "name": "stderr",
     "output_type": "stream",
     "text": [
      "/home/nico-churrarin/Escritorio/2023 Maestria Austral/2025/Fundamentos del Aprendizaje Automatico/Ptyhon_ambientes/venv/lib/python3.11/site-packages/sklearn/utils/validation.py:2739: UserWarning: X does not have valid feature names, but LGBMClassifier was fitted with feature names\n",
      "  warnings.warn(\n"
     ]
    },
    {
     "name": "stdout",
     "output_type": "stream",
     "text": [
      "[I 2025-05-17 08:04:01,290] Trial 4 finished with value: 0.5653266331658291 and parameters: {'boosting_type': 'gbdt', 'num_leaves': 75, 'learning_rate': 0.2703741818153366, 'feature_fraction': 0.8868329154400758, 'bagging_fraction': 0.9673945974044852, 'bagging_freq': 4, 'lambda_l1': 0.06061237688196608, 'lambda_l2': 2.263041425524554, 'min_data_in_leaf': 43, 'class_weight': 2.671700139209471}. Best is trial 0 with value: 0.5675340768277571.\n",
      "Training until validation scores don't improve for 50 rounds\n",
      "[10]\tvalid_0's binary_logloss: 0.887971\n",
      "[20]\tvalid_0's binary_logloss: 0.874608\n",
      "[30]\tvalid_0's binary_logloss: 0.873649\n",
      "[40]\tvalid_0's binary_logloss: 0.874405\n",
      "[50]\tvalid_0's binary_logloss: 0.869411\n"
     ]
    },
    {
     "name": "stderr",
     "output_type": "stream",
     "text": [
      "/home/nico-churrarin/Escritorio/2023 Maestria Austral/2025/Fundamentos del Aprendizaje Automatico/Ptyhon_ambientes/venv/lib/python3.11/site-packages/sklearn/utils/validation.py:2739: UserWarning: X does not have valid feature names, but LGBMClassifier was fitted with feature names\n",
      "  warnings.warn(\n"
     ]
    },
    {
     "name": "stdout",
     "output_type": "stream",
     "text": [
      "[60]\tvalid_0's binary_logloss: 0.868573\n",
      "[70]\tvalid_0's binary_logloss: 0.866136\n",
      "[80]\tvalid_0's binary_logloss: 0.861884\n",
      "[90]\tvalid_0's binary_logloss: 0.860603\n",
      "[100]\tvalid_0's binary_logloss: 0.861729\n",
      "Did not meet early stopping. Best iteration is:\n",
      "[89]\tvalid_0's binary_logloss: 0.859724\n",
      "[I 2025-05-17 08:04:01,613] Trial 5 finished with value: 0.5635910224438903 and parameters: {'boosting_type': 'gbdt', 'num_leaves': 73, 'learning_rate': 0.02234958274048572, 'feature_fraction': 0.8405414749922893, 'bagging_fraction': 0.7530624756094368, 'bagging_freq': 6, 'lambda_l1': 1.0800401368470458, 'lambda_l2': 1.7158005946711774, 'min_data_in_leaf': 18, 'class_weight': 2.5705870723779785}. Best is trial 0 with value: 0.5675340768277571.\n",
      "Training until validation scores don't improve for 50 rounds\n",
      "[10]\tvalid_0's binary_logloss: 0.887375\n",
      "[20]\tvalid_0's binary_logloss: 0.880987\n",
      "[30]\tvalid_0's binary_logloss: 0.875108\n",
      "[40]\tvalid_0's binary_logloss: 0.868595\n",
      "[50]\tvalid_0's binary_logloss: 0.863376\n",
      "[60]\tvalid_0's binary_logloss: 0.857663\n",
      "[70]\tvalid_0's binary_logloss: 0.85652\n",
      "[80]\tvalid_0's binary_logloss: 0.854027\n",
      "[90]\tvalid_0's binary_logloss: 0.856825\n"
     ]
    },
    {
     "name": "stderr",
     "output_type": "stream",
     "text": [
      "/home/nico-churrarin/Escritorio/2023 Maestria Austral/2025/Fundamentos del Aprendizaje Automatico/Ptyhon_ambientes/venv/lib/python3.11/site-packages/sklearn/utils/validation.py:2739: UserWarning: X does not have valid feature names, but LGBMClassifier was fitted with feature names\n",
      "  warnings.warn(\n"
     ]
    },
    {
     "name": "stdout",
     "output_type": "stream",
     "text": [
      "[100]\tvalid_0's binary_logloss: 0.853417\n",
      "Did not meet early stopping. Best iteration is:\n",
      "[82]\tvalid_0's binary_logloss: 0.852939\n",
      "[I 2025-05-17 08:04:01,961] Trial 6 finished with value: 0.5627376425855514 and parameters: {'boosting_type': 'gbdt', 'num_leaves': 75, 'learning_rate': 0.026940695837446398, 'feature_fraction': 0.7299113809445066, 'bagging_fraction': 0.7713507749727501, 'bagging_freq': 1, 'lambda_l1': 0.29541180847251325, 'lambda_l2': 1.903319821522222, 'min_data_in_leaf': 16, 'class_weight': 2.559425560581718}. Best is trial 0 with value: 0.5675340768277571.\n",
      "Training until validation scores don't improve for 50 rounds\n",
      "[10]\tvalid_0's binary_logloss: 0.883162\n",
      "[20]\tvalid_0's binary_logloss: 0.878566\n",
      "[30]\tvalid_0's binary_logloss: 0.883332\n",
      "[40]\tvalid_0's binary_logloss: 0.875124\n"
     ]
    },
    {
     "name": "stderr",
     "output_type": "stream",
     "text": [
      "/home/nico-churrarin/Escritorio/2023 Maestria Austral/2025/Fundamentos del Aprendizaje Automatico/Ptyhon_ambientes/venv/lib/python3.11/site-packages/sklearn/utils/validation.py:2739: UserWarning: X does not have valid feature names, but LGBMClassifier was fitted with feature names\n",
      "  warnings.warn(\n"
     ]
    },
    {
     "name": "stdout",
     "output_type": "stream",
     "text": [
      "[50]\tvalid_0's binary_logloss: 0.87449\n",
      "[60]\tvalid_0's binary_logloss: 0.872716\n",
      "[70]\tvalid_0's binary_logloss: 0.86826\n",
      "[80]\tvalid_0's binary_logloss: 0.869558\n",
      "[90]\tvalid_0's binary_logloss: 0.865965\n",
      "[100]\tvalid_0's binary_logloss: 0.864421\n",
      "Did not meet early stopping. Best iteration is:\n",
      "[100]\tvalid_0's binary_logloss: 0.864421\n",
      "[I 2025-05-17 08:04:02,328] Trial 7 finished with value: 0.5642946317103621 and parameters: {'boosting_type': 'gbdt', 'num_leaves': 63, 'learning_rate': 0.02597044032005364, 'feature_fraction': 0.9368897352734462, 'bagging_fraction': 0.7621511168809206, 'bagging_freq': 3, 'lambda_l1': 2.0759781400637554, 'lambda_l2': 3.5923088342760483, 'min_data_in_leaf': 10, 'class_weight': 2.481877693408854}. Best is trial 0 with value: 0.5675340768277571.\n"
     ]
    },
    {
     "name": "stderr",
     "output_type": "stream",
     "text": [
      "/home/nico-churrarin/Escritorio/2023 Maestria Austral/2025/Fundamentos del Aprendizaje Automatico/Ptyhon_ambientes/venv/lib/python3.11/site-packages/lightgbm/callback.py:333: UserWarning: Early stopping is not available in dart mode\n",
      "  _log_warning(\"Early stopping is not available in dart mode\")\n"
     ]
    },
    {
     "name": "stdout",
     "output_type": "stream",
     "text": [
      "[10]\tvalid_0's binary_logloss: 0.930683\n",
      "[20]\tvalid_0's binary_logloss: 0.921874\n",
      "[30]\tvalid_0's binary_logloss: 0.916355\n",
      "[40]\tvalid_0's binary_logloss: 0.90571\n",
      "[50]\tvalid_0's binary_logloss: 0.875506\n",
      "[60]\tvalid_0's binary_logloss: 0.84111\n",
      "[70]\tvalid_0's binary_logloss: 0.831012\n",
      "[80]\tvalid_0's binary_logloss: 0.853317\n"
     ]
    },
    {
     "name": "stderr",
     "output_type": "stream",
     "text": [
      "/home/nico-churrarin/Escritorio/2023 Maestria Austral/2025/Fundamentos del Aprendizaje Automatico/Ptyhon_ambientes/venv/lib/python3.11/site-packages/sklearn/utils/validation.py:2739: UserWarning: X does not have valid feature names, but LGBMClassifier was fitted with feature names\n",
      "  warnings.warn(\n"
     ]
    },
    {
     "name": "stdout",
     "output_type": "stream",
     "text": [
      "[90]\tvalid_0's binary_logloss: 0.856208\n",
      "[100]\tvalid_0's binary_logloss: 0.845571\n",
      "[I 2025-05-17 08:04:02,657] Trial 8 finished with value: 0.5639097744360902 and parameters: {'boosting_type': 'dart', 'num_leaves': 33, 'learning_rate': 0.0612015073344307, 'feature_fraction': 0.9142743642689997, 'bagging_fraction': 0.9140232555911408, 'bagging_freq': 5, 'lambda_l1': 0.712372041243467, 'lambda_l2': 1.7785657471586553, 'min_data_in_leaf': 19, 'class_weight': 2.9677717625015267}. Best is trial 0 with value: 0.5675340768277571.\n",
      "[10]\tvalid_0's binary_logloss: 0.802609\n",
      "[20]\tvalid_0's binary_logloss: 0.790285\n",
      "[30]\tvalid_0's binary_logloss: 0.7937\n",
      "[40]\tvalid_0's binary_logloss: 0.798132\n",
      "[50]\tvalid_0's binary_logloss: 0.784873\n",
      "[60]\tvalid_0's binary_logloss: 0.7631\n",
      "[70]\tvalid_0's binary_logloss: 0.762633\n"
     ]
    },
    {
     "name": "stderr",
     "output_type": "stream",
     "text": [
      "/home/nico-churrarin/Escritorio/2023 Maestria Austral/2025/Fundamentos del Aprendizaje Automatico/Ptyhon_ambientes/venv/lib/python3.11/site-packages/lightgbm/callback.py:333: UserWarning: Early stopping is not available in dart mode\n",
      "  _log_warning(\"Early stopping is not available in dart mode\")\n",
      "/home/nico-churrarin/Escritorio/2023 Maestria Austral/2025/Fundamentos del Aprendizaje Automatico/Ptyhon_ambientes/venv/lib/python3.11/site-packages/sklearn/utils/validation.py:2739: UserWarning: X does not have valid feature names, but LGBMClassifier was fitted with feature names\n",
      "  warnings.warn(\n"
     ]
    },
    {
     "name": "stdout",
     "output_type": "stream",
     "text": [
      "[80]\tvalid_0's binary_logloss: 0.777962\n",
      "[90]\tvalid_0's binary_logloss: 0.778759\n",
      "[100]\tvalid_0's binary_logloss: 0.779356\n",
      "[I 2025-05-17 08:04:02,922] Trial 9 finished with value: 0.5483870967741935 and parameters: {'boosting_type': 'dart', 'num_leaves': 34, 'learning_rate': 0.09505226971505551, 'feature_fraction': 0.7157283679888587, 'bagging_fraction': 0.7592415729517681, 'bagging_freq': 5, 'lambda_l1': 1.1725807988584391, 'lambda_l2': 2.6200193085803396, 'min_data_in_leaf': 38, 'class_weight': 1.945617844917624}. Best is trial 0 with value: 0.5675340768277571.\n"
     ]
    },
    {
     "name": "stderr",
     "output_type": "stream",
     "text": [
      "/home/nico-churrarin/Escritorio/2023 Maestria Austral/2025/Fundamentos del Aprendizaje Automatico/Ptyhon_ambientes/venv/lib/python3.11/site-packages/lightgbm/callback.py:333: UserWarning: Early stopping is not available in dart mode\n",
      "  _log_warning(\"Early stopping is not available in dart mode\")\n"
     ]
    },
    {
     "name": "stdout",
     "output_type": "stream",
     "text": [
      "[10]\tvalid_0's binary_logloss: 0.948402\n",
      "[20]\tvalid_0's binary_logloss: 0.946354\n",
      "[30]\tvalid_0's binary_logloss: 0.947459\n",
      "[40]\tvalid_0's binary_logloss: 0.947637\n",
      "[50]\tvalid_0's binary_logloss: 0.90199\n",
      "[60]\tvalid_0's binary_logloss: 0.861199\n",
      "[70]\tvalid_0's binary_logloss: 0.876762\n",
      "[80]\tvalid_0's binary_logloss: 0.888213\n",
      "[90]\tvalid_0's binary_logloss: 0.903471\n",
      "[100]\tvalid_0's binary_logloss: 0.986494\n"
     ]
    },
    {
     "name": "stderr",
     "output_type": "stream",
     "text": [
      "/home/nico-churrarin/Escritorio/2023 Maestria Austral/2025/Fundamentos del Aprendizaje Automatico/Ptyhon_ambientes/venv/lib/python3.11/site-packages/sklearn/utils/validation.py:2739: UserWarning: X does not have valid feature names, but LGBMClassifier was fitted with feature names\n",
      "  warnings.warn(\n",
      "/home/nico-churrarin/Escritorio/2023 Maestria Austral/2025/Fundamentos del Aprendizaje Automatico/Ptyhon_ambientes/venv/lib/python3.11/site-packages/lightgbm/callback.py:333: UserWarning: Early stopping is not available in dart mode\n",
      "  _log_warning(\"Early stopping is not available in dart mode\")\n"
     ]
    },
    {
     "name": "stdout",
     "output_type": "stream",
     "text": [
      "[I 2025-05-17 08:04:03,268] Trial 10 finished with value: 0.0 and parameters: {'boosting_type': 'dart', 'num_leaves': 94, 'learning_rate': 0.011792645344553274, 'feature_fraction': 0.9939932740756438, 'bagging_fraction': 0.9716075355188554, 'bagging_freq': 1, 'lambda_l1': 4.960092175303594, 'lambda_l2': 4.924838283858767, 'min_data_in_leaf': 28, 'class_weight': 2.984250118358204}. Best is trial 0 with value: 0.5675340768277571.\n",
      "[10]\tvalid_0's binary_logloss: 0.906439\n",
      "[20]\tvalid_0's binary_logloss: 0.880734\n",
      "[30]\tvalid_0's binary_logloss: 0.901879\n",
      "[40]\tvalid_0's binary_logloss: 0.900159\n"
     ]
    },
    {
     "name": "stderr",
     "output_type": "stream",
     "text": [
      "/home/nico-churrarin/Escritorio/2023 Maestria Austral/2025/Fundamentos del Aprendizaje Automatico/Ptyhon_ambientes/venv/lib/python3.11/site-packages/sklearn/utils/validation.py:2739: UserWarning: X does not have valid feature names, but LGBMClassifier was fitted with feature names\n",
      "  warnings.warn(\n"
     ]
    },
    {
     "name": "stdout",
     "output_type": "stream",
     "text": [
      "[50]\tvalid_0's binary_logloss: 0.90058\n",
      "[60]\tvalid_0's binary_logloss: 1.04698\n",
      "[70]\tvalid_0's binary_logloss: 1.23605\n",
      "[80]\tvalid_0's binary_logloss: 1.23543\n",
      "[90]\tvalid_0's binary_logloss: 1.24704\n",
      "[100]\tvalid_0's binary_logloss: 1.2599\n",
      "[I 2025-05-17 08:04:03,614] Trial 11 finished with value: 0.44881889763779526 and parameters: {'boosting_type': 'dart', 'num_leaves': 98, 'learning_rate': 0.1640318022000675, 'feature_fraction': 0.999700685490476, 'bagging_fraction': 0.8464954171923799, 'bagging_freq': 10, 'lambda_l1': 4.870905488009516, 'lambda_l2': 0.5112969555476243, 'min_data_in_leaf': 31, 'class_weight': 2.808565890510738}. Best is trial 0 with value: 0.5675340768277571.\n"
     ]
    },
    {
     "name": "stderr",
     "output_type": "stream",
     "text": [
      "/home/nico-churrarin/Escritorio/2023 Maestria Austral/2025/Fundamentos del Aprendizaje Automatico/Ptyhon_ambientes/venv/lib/python3.11/site-packages/lightgbm/callback.py:333: UserWarning: Early stopping is not available in dart mode\n",
      "  _log_warning(\"Early stopping is not available in dart mode\")\n",
      "/home/nico-churrarin/Escritorio/2023 Maestria Austral/2025/Fundamentos del Aprendizaje Automatico/Ptyhon_ambientes/venv/lib/python3.11/site-packages/sklearn/utils/validation.py:2739: UserWarning: X does not have valid feature names, but LGBMClassifier was fitted with feature names\n",
      "  warnings.warn(\n"
     ]
    },
    {
     "name": "stdout",
     "output_type": "stream",
     "text": [
      "[10]\tvalid_0's binary_logloss: 0.868281\n",
      "[20]\tvalid_0's binary_logloss: 0.866257\n",
      "[30]\tvalid_0's binary_logloss: 0.866493\n",
      "[40]\tvalid_0's binary_logloss: 0.867048\n",
      "[50]\tvalid_0's binary_logloss: 0.836855\n",
      "[60]\tvalid_0's binary_logloss: 0.810167\n",
      "[70]\tvalid_0's binary_logloss: 0.789931\n",
      "[80]\tvalid_0's binary_logloss: 0.792523\n",
      "[90]\tvalid_0's binary_logloss: 0.793975\n",
      "[100]\tvalid_0's binary_logloss: 0.77742\n",
      "[I 2025-05-17 08:04:04,070] Trial 12 finished with value: 0.5675340768277571 and parameters: {'boosting_type': 'dart', 'num_leaves': 87, 'learning_rate': 0.01029744372157163, 'feature_fraction': 0.9459090240215494, 'bagging_fraction': 0.8444812671791845, 'bagging_freq': 9, 'lambda_l1': 3.782388507100084, 'lambda_l2': 3.837714144042712, 'min_data_in_leaf': 50, 'class_weight': 2.3273136098338507}. Best is trial 0 with value: 0.5675340768277571.\n"
     ]
    },
    {
     "name": "stderr",
     "output_type": "stream",
     "text": [
      "/home/nico-churrarin/Escritorio/2023 Maestria Austral/2025/Fundamentos del Aprendizaje Automatico/Ptyhon_ambientes/venv/lib/python3.11/site-packages/lightgbm/callback.py:333: UserWarning: Early stopping is not available in dart mode\n",
      "  _log_warning(\"Early stopping is not available in dart mode\")\n"
     ]
    },
    {
     "name": "stdout",
     "output_type": "stream",
     "text": [
      "[10]\tvalid_0's binary_logloss: 0.757009\n",
      "[20]\tvalid_0's binary_logloss: 0.7569\n",
      "[30]\tvalid_0's binary_logloss: 0.756188\n",
      "[40]\tvalid_0's binary_logloss: 0.757042\n",
      "[50]\tvalid_0's binary_logloss: 0.746393\n",
      "[60]\tvalid_0's binary_logloss: 0.737347\n",
      "[70]\tvalid_0's binary_logloss: 0.730351\n",
      "[80]\tvalid_0's binary_logloss: 0.731721\n"
     ]
    },
    {
     "name": "stderr",
     "output_type": "stream",
     "text": [
      "/home/nico-churrarin/Escritorio/2023 Maestria Austral/2025/Fundamentos del Aprendizaje Automatico/Ptyhon_ambientes/venv/lib/python3.11/site-packages/sklearn/utils/validation.py:2739: UserWarning: X does not have valid feature names, but LGBMClassifier was fitted with feature names\n",
      "  warnings.warn(\n"
     ]
    },
    {
     "name": "stdout",
     "output_type": "stream",
     "text": [
      "[90]\tvalid_0's binary_logloss: 0.731869\n",
      "[100]\tvalid_0's binary_logloss: 0.726004\n",
      "[I 2025-05-17 08:04:04,537] Trial 13 finished with value: 0.5675340768277571 and parameters: {'boosting_type': 'dart', 'num_leaves': 85, 'learning_rate': 0.010022433320866504, 'feature_fraction': 0.948133867470539, 'bagging_fraction': 0.901516857083484, 'bagging_freq': 8, 'lambda_l1': 3.5615837245222037, 'lambda_l2': 3.7990192762268236, 'min_data_in_leaf': 26, 'class_weight': 1.5155258889008514}. Best is trial 0 with value: 0.5675340768277571.\n",
      "[10]\tvalid_0's binary_logloss: 0.862636\n",
      "[20]\tvalid_0's binary_logloss: 0.857474\n"
     ]
    },
    {
     "name": "stderr",
     "output_type": "stream",
     "text": [
      "/home/nico-churrarin/Escritorio/2023 Maestria Austral/2025/Fundamentos del Aprendizaje Automatico/Ptyhon_ambientes/venv/lib/python3.11/site-packages/lightgbm/callback.py:333: UserWarning: Early stopping is not available in dart mode\n",
      "  _log_warning(\"Early stopping is not available in dart mode\")\n",
      "/home/nico-churrarin/Escritorio/2023 Maestria Austral/2025/Fundamentos del Aprendizaje Automatico/Ptyhon_ambientes/venv/lib/python3.11/site-packages/sklearn/utils/validation.py:2739: UserWarning: X does not have valid feature names, but LGBMClassifier was fitted with feature names\n",
      "  warnings.warn(\n"
     ]
    },
    {
     "name": "stdout",
     "output_type": "stream",
     "text": [
      "[30]\tvalid_0's binary_logloss: 0.856884\n",
      "[40]\tvalid_0's binary_logloss: 0.857322\n",
      "[50]\tvalid_0's binary_logloss: 0.829422\n",
      "[60]\tvalid_0's binary_logloss: 0.803953\n",
      "[70]\tvalid_0's binary_logloss: 0.78614\n",
      "[80]\tvalid_0's binary_logloss: 0.790004\n",
      "[90]\tvalid_0's binary_logloss: 0.791085\n",
      "[100]\tvalid_0's binary_logloss: 0.776706\n",
      "[I 2025-05-17 08:04:04,884] Trial 14 finished with value: 0.5675340768277571 and parameters: {'boosting_type': 'dart', 'num_leaves': 87, 'learning_rate': 0.014858482605155744, 'feature_fraction': 0.8589750438636963, 'bagging_fraction': 0.8054769359207206, 'bagging_freq': 7, 'lambda_l1': 3.8704606507736763, 'lambda_l2': 3.7145676682185282, 'min_data_in_leaf': 33, 'class_weight': 2.2925637273348167}. Best is trial 0 with value: 0.5675340768277571.\n"
     ]
    },
    {
     "name": "stderr",
     "output_type": "stream",
     "text": [
      "/home/nico-churrarin/Escritorio/2023 Maestria Austral/2025/Fundamentos del Aprendizaje Automatico/Ptyhon_ambientes/venv/lib/python3.11/site-packages/lightgbm/callback.py:333: UserWarning: Early stopping is not available in dart mode\n",
      "  _log_warning(\"Early stopping is not available in dart mode\")\n"
     ]
    },
    {
     "name": "stdout",
     "output_type": "stream",
     "text": [
      "[10]\tvalid_0's binary_logloss: 0.859323\n",
      "[20]\tvalid_0's binary_logloss: 0.856733\n",
      "[30]\tvalid_0's binary_logloss: 0.852928\n",
      "[40]\tvalid_0's binary_logloss: 0.853447\n",
      "[50]\tvalid_0's binary_logloss: 0.824463\n",
      "[60]\tvalid_0's binary_logloss: 0.799666\n",
      "[70]\tvalid_0's binary_logloss: 0.783342\n",
      "[80]\tvalid_0's binary_logloss: 0.785825\n",
      "[90]\tvalid_0's binary_logloss: 0.78826\n"
     ]
    },
    {
     "name": "stderr",
     "output_type": "stream",
     "text": [
      "/home/nico-churrarin/Escritorio/2023 Maestria Austral/2025/Fundamentos del Aprendizaje Automatico/Ptyhon_ambientes/venv/lib/python3.11/site-packages/sklearn/utils/validation.py:2739: UserWarning: X does not have valid feature names, but LGBMClassifier was fitted with feature names\n",
      "  warnings.warn(\n"
     ]
    },
    {
     "name": "stdout",
     "output_type": "stream",
     "text": [
      "[100]\tvalid_0's binary_logloss: 0.775468\n",
      "[I 2025-05-17 08:04:05,248] Trial 15 finished with value: 0.5675340768277571 and parameters: {'boosting_type': 'dart', 'num_leaves': 83, 'learning_rate': 0.01768594413547416, 'feature_fraction': 0.9475927938228423, 'bagging_fraction': 0.9201064127537539, 'bagging_freq': 10, 'lambda_l1': 3.836762476744408, 'lambda_l2': 4.677565287577647, 'min_data_in_leaf': 37, 'class_weight': 2.2824220716370194}. Best is trial 0 with value: 0.5675340768277571.\n"
     ]
    },
    {
     "name": "stderr",
     "output_type": "stream",
     "text": [
      "/home/nico-churrarin/Escritorio/2023 Maestria Austral/2025/Fundamentos del Aprendizaje Automatico/Ptyhon_ambientes/venv/lib/python3.11/site-packages/lightgbm/callback.py:333: UserWarning: Early stopping is not available in dart mode\n",
      "  _log_warning(\"Early stopping is not available in dart mode\")\n"
     ]
    },
    {
     "name": "stdout",
     "output_type": "stream",
     "text": [
      "[10]\tvalid_0's binary_logloss: 0.827081\n",
      "[20]\tvalid_0's binary_logloss: 0.819754\n",
      "[30]\tvalid_0's binary_logloss: 0.817313\n",
      "[40]\tvalid_0's binary_logloss: 0.822764\n",
      "[50]\tvalid_0's binary_logloss: 0.803388\n",
      "[60]\tvalid_0's binary_logloss: 0.785584\n",
      "[70]\tvalid_0's binary_logloss: 0.776945\n",
      "[80]\tvalid_0's binary_logloss: 0.784004\n"
     ]
    },
    {
     "name": "stderr",
     "output_type": "stream",
     "text": [
      "/home/nico-churrarin/Escritorio/2023 Maestria Austral/2025/Fundamentos del Aprendizaje Automatico/Ptyhon_ambientes/venv/lib/python3.11/site-packages/sklearn/utils/validation.py:2739: UserWarning: X does not have valid feature names, but LGBMClassifier was fitted with feature names\n",
      "  warnings.warn(\n"
     ]
    },
    {
     "name": "stdout",
     "output_type": "stream",
     "text": [
      "[90]\tvalid_0's binary_logloss: 0.787706\n",
      "[100]\tvalid_0's binary_logloss: 0.77697\n",
      "[I 2025-05-17 08:04:06,001] Trial 16 finished with value: 0.5610972568578554 and parameters: {'boosting_type': 'dart', 'num_leaves': 64, 'learning_rate': 0.04046427568347023, 'feature_fraction': 0.892902477221592, 'bagging_fraction': 0.874690634439661, 'bagging_freq': 7, 'lambda_l1': 3.214938177150054, 'lambda_l2': 3.0580099937383474, 'min_data_in_leaf': 22, 'class_weight': 2.0248919647778916}. Best is trial 0 with value: 0.5675340768277571.\n"
     ]
    },
    {
     "name": "stderr",
     "output_type": "stream",
     "text": [
      "/home/nico-churrarin/Escritorio/2023 Maestria Austral/2025/Fundamentos del Aprendizaje Automatico/Ptyhon_ambientes/venv/lib/python3.11/site-packages/lightgbm/callback.py:333: UserWarning: Early stopping is not available in dart mode\n",
      "  _log_warning(\"Early stopping is not available in dart mode\")\n"
     ]
    },
    {
     "name": "stdout",
     "output_type": "stream",
     "text": [
      "[10]\tvalid_0's binary_logloss: 0.873543\n",
      "[20]\tvalid_0's binary_logloss: 0.872619\n",
      "[30]\tvalid_0's binary_logloss: 0.873737\n",
      "[40]\tvalid_0's binary_logloss: 0.873\n",
      "[50]\tvalid_0's binary_logloss: 0.840155\n",
      "[60]\tvalid_0's binary_logloss: 0.812717\n",
      "[70]\tvalid_0's binary_logloss: 0.792345\n",
      "[80]\tvalid_0's binary_logloss: 0.79571\n"
     ]
    },
    {
     "name": "stderr",
     "output_type": "stream",
     "text": [
      "/home/nico-churrarin/Escritorio/2023 Maestria Austral/2025/Fundamentos del Aprendizaje Automatico/Ptyhon_ambientes/venv/lib/python3.11/site-packages/sklearn/utils/validation.py:2739: UserWarning: X does not have valid feature names, but LGBMClassifier was fitted with feature names\n",
      "  warnings.warn(\n"
     ]
    },
    {
     "name": "stdout",
     "output_type": "stream",
     "text": [
      "[90]\tvalid_0's binary_logloss: 0.797782\n",
      "[100]\tvalid_0's binary_logloss: 0.781386\n",
      "[I 2025-05-17 08:04:06,393] Trial 17 finished with value: 0.5675340768277571 and parameters: {'boosting_type': 'dart', 'num_leaves': 70, 'learning_rate': 0.015442698825732805, 'feature_fraction': 0.8547189809514487, 'bagging_fraction': 0.8042417799256888, 'bagging_freq': 2, 'lambda_l1': 2.755436988017161, 'lambda_l2': 4.455769700155495, 'min_data_in_leaf': 37, 'class_weight': 2.389700294891615}. Best is trial 0 with value: 0.5675340768277571.\n",
      "[10]\tvalid_0's binary_logloss: 0.92095\n"
     ]
    },
    {
     "name": "stderr",
     "output_type": "stream",
     "text": [
      "/home/nico-churrarin/Escritorio/2023 Maestria Austral/2025/Fundamentos del Aprendizaje Automatico/Ptyhon_ambientes/venv/lib/python3.11/site-packages/lightgbm/callback.py:333: UserWarning: Early stopping is not available in dart mode\n",
      "  _log_warning(\"Early stopping is not available in dart mode\")\n"
     ]
    },
    {
     "name": "stdout",
     "output_type": "stream",
     "text": [
      "[20]\tvalid_0's binary_logloss: 0.919867\n",
      "[30]\tvalid_0's binary_logloss: 0.918747\n",
      "[40]\tvalid_0's binary_logloss: 0.91788\n",
      "[50]\tvalid_0's binary_logloss: 0.876083\n",
      "[60]\tvalid_0's binary_logloss: 0.841098\n",
      "[70]\tvalid_0's binary_logloss: 0.816818\n",
      "[80]\tvalid_0's binary_logloss: 0.821104\n"
     ]
    },
    {
     "name": "stderr",
     "output_type": "stream",
     "text": [
      "/home/nico-churrarin/Escritorio/2023 Maestria Austral/2025/Fundamentos del Aprendizaje Automatico/Ptyhon_ambientes/venv/lib/python3.11/site-packages/sklearn/utils/validation.py:2739: UserWarning: X does not have valid feature names, but LGBMClassifier was fitted with feature names\n",
      "  warnings.warn(\n"
     ]
    },
    {
     "name": "stdout",
     "output_type": "stream",
     "text": [
      "[90]\tvalid_0's binary_logloss: 0.822764\n",
      "[100]\tvalid_0's binary_logloss: 0.80275\n",
      "[I 2025-05-17 08:04:06,820] Trial 18 finished with value: 0.5675340768277571 and parameters: {'boosting_type': 'dart', 'num_leaves': 50, 'learning_rate': 0.0113150122817275, 'feature_fraction': 0.8090055499059021, 'bagging_fraction': 0.9440152515015358, 'bagging_freq': 8, 'lambda_l1': 4.3034816600508785, 'lambda_l2': 3.1428735287046696, 'min_data_in_leaf': 11, 'class_weight': 2.762630854749907}. Best is trial 0 with value: 0.5675340768277571.\n",
      "[10]\tvalid_0's binary_logloss: 0.804959\n",
      "[20]\tvalid_0's binary_logloss: 0.80311\n",
      "[30]\tvalid_0's binary_logloss: 0.803965\n"
     ]
    },
    {
     "name": "stderr",
     "output_type": "stream",
     "text": [
      "/home/nico-churrarin/Escritorio/2023 Maestria Austral/2025/Fundamentos del Aprendizaje Automatico/Ptyhon_ambientes/venv/lib/python3.11/site-packages/lightgbm/callback.py:333: UserWarning: Early stopping is not available in dart mode\n",
      "  _log_warning(\"Early stopping is not available in dart mode\")\n"
     ]
    },
    {
     "name": "stdout",
     "output_type": "stream",
     "text": [
      "[40]\tvalid_0's binary_logloss: 0.805536\n",
      "[50]\tvalid_0's binary_logloss: 0.786489\n",
      "[60]\tvalid_0's binary_logloss: 0.772307\n",
      "[70]\tvalid_0's binary_logloss: 0.763844\n",
      "[80]\tvalid_0's binary_logloss: 0.769756\n"
     ]
    },
    {
     "name": "stderr",
     "output_type": "stream",
     "text": [
      "/home/nico-churrarin/Escritorio/2023 Maestria Austral/2025/Fundamentos del Aprendizaje Automatico/Ptyhon_ambientes/venv/lib/python3.11/site-packages/sklearn/utils/validation.py:2739: UserWarning: X does not have valid feature names, but LGBMClassifier was fitted with feature names\n",
      "  warnings.warn(\n"
     ]
    },
    {
     "name": "stdout",
     "output_type": "stream",
     "text": [
      "[90]\tvalid_0's binary_logloss: 0.771201\n",
      "[100]\tvalid_0's binary_logloss: 0.76691\n",
      "[I 2025-05-17 08:04:07,257] Trial 19 finished with value: 0.5675340768277571 and parameters: {'boosting_type': 'dart', 'num_leaves': 89, 'learning_rate': 0.04246035402467096, 'feature_fraction': 0.9659091673814418, 'bagging_fraction': 0.8763844610331557, 'bagging_freq': 6, 'lambda_l1': 4.358739743389995, 'lambda_l2': 4.176999926136609, 'min_data_in_leaf': 50, 'class_weight': 1.8659865517452723}. Best is trial 0 with value: 0.5675340768277571.\n"
     ]
    },
    {
     "name": "stderr",
     "output_type": "stream",
     "text": [
      "/home/nico-churrarin/Escritorio/2023 Maestria Austral/2025/Fundamentos del Aprendizaje Automatico/Ptyhon_ambientes/venv/lib/python3.11/site-packages/lightgbm/callback.py:333: UserWarning: Early stopping is not available in dart mode\n",
      "  _log_warning(\"Early stopping is not available in dart mode\")\n"
     ]
    },
    {
     "name": "stdout",
     "output_type": "stream",
     "text": [
      "[10]\tvalid_0's binary_logloss: 0.844458\n",
      "[20]\tvalid_0's binary_logloss: 0.841065\n",
      "[30]\tvalid_0's binary_logloss: 0.8373\n",
      "[40]\tvalid_0's binary_logloss: 0.837113\n",
      "[50]\tvalid_0's binary_logloss: 0.81213\n",
      "[60]\tvalid_0's binary_logloss: 0.790077\n",
      "[70]\tvalid_0's binary_logloss: 0.774381\n",
      "[80]\tvalid_0's binary_logloss: 0.77631\n",
      "[90]\tvalid_0's binary_logloss: 0.778504\n",
      "[100]\tvalid_0's binary_logloss: 0.766649\n"
     ]
    },
    {
     "name": "stderr",
     "output_type": "stream",
     "text": [
      "/home/nico-churrarin/Escritorio/2023 Maestria Austral/2025/Fundamentos del Aprendizaje Automatico/Ptyhon_ambientes/venv/lib/python3.11/site-packages/sklearn/utils/validation.py:2739: UserWarning: X does not have valid feature names, but LGBMClassifier was fitted with feature names\n",
      "  warnings.warn(\n",
      "/home/nico-churrarin/Escritorio/2023 Maestria Austral/2025/Fundamentos del Aprendizaje Automatico/Ptyhon_ambientes/venv/lib/python3.11/site-packages/lightgbm/callback.py:333: UserWarning: Early stopping is not available in dart mode\n",
      "  _log_warning(\"Early stopping is not available in dart mode\")\n"
     ]
    },
    {
     "name": "stdout",
     "output_type": "stream",
     "text": [
      "[I 2025-05-17 08:04:07,754] Trial 20 finished with value: 0.5675340768277571 and parameters: {'boosting_type': 'dart', 'num_leaves': 21, 'learning_rate': 0.01573655867839292, 'feature_fraction': 0.9079044076298753, 'bagging_fraction': 0.8195710684106327, 'bagging_freq': 9, 'lambda_l1': 2.1171788979570656, 'lambda_l2': 3.188870854392501, 'min_data_in_leaf': 24, 'class_weight': 2.1374733623616415}. Best is trial 0 with value: 0.5675340768277571.\n",
      "[10]\tvalid_0's binary_logloss: 0.755163\n",
      "[20]\tvalid_0's binary_logloss: 0.755011\n",
      "[30]\tvalid_0's binary_logloss: 0.754722\n",
      "[40]\tvalid_0's binary_logloss: 0.754605\n",
      "[50]\tvalid_0's binary_logloss: 0.744675\n",
      "[60]\tvalid_0's binary_logloss: 0.735548\n"
     ]
    },
    {
     "name": "stderr",
     "output_type": "stream",
     "text": [
      "/home/nico-churrarin/Escritorio/2023 Maestria Austral/2025/Fundamentos del Aprendizaje Automatico/Ptyhon_ambientes/venv/lib/python3.11/site-packages/sklearn/utils/validation.py:2739: UserWarning: X does not have valid feature names, but LGBMClassifier was fitted with feature names\n",
      "  warnings.warn(\n"
     ]
    },
    {
     "name": "stdout",
     "output_type": "stream",
     "text": [
      "[70]\tvalid_0's binary_logloss: 0.728931\n",
      "[80]\tvalid_0's binary_logloss: 0.730107\n",
      "[90]\tvalid_0's binary_logloss: 0.730018\n",
      "[100]\tvalid_0's binary_logloss: 0.724611\n",
      "[I 2025-05-17 08:04:08,369] Trial 21 finished with value: 0.5675340768277571 and parameters: {'boosting_type': 'dart', 'num_leaves': 82, 'learning_rate': 0.010376875428217426, 'feature_fraction': 0.9566354667403355, 'bagging_fraction': 0.8950147278585853, 'bagging_freq': 8, 'lambda_l1': 3.367291846306015, 'lambda_l2': 3.976929469584433, 'min_data_in_leaf': 27, 'class_weight': 1.501823670094146}. Best is trial 0 with value: 0.5675340768277571.\n"
     ]
    },
    {
     "name": "stderr",
     "output_type": "stream",
     "text": [
      "/home/nico-churrarin/Escritorio/2023 Maestria Austral/2025/Fundamentos del Aprendizaje Automatico/Ptyhon_ambientes/venv/lib/python3.11/site-packages/lightgbm/callback.py:333: UserWarning: Early stopping is not available in dart mode\n",
      "  _log_warning(\"Early stopping is not available in dart mode\")\n"
     ]
    },
    {
     "name": "stdout",
     "output_type": "stream",
     "text": [
      "[10]\tvalid_0's binary_logloss: 0.783392\n",
      "[20]\tvalid_0's binary_logloss: 0.7821\n",
      "[30]\tvalid_0's binary_logloss: 0.781474\n",
      "[40]\tvalid_0's binary_logloss: 0.781004\n",
      "[50]\tvalid_0's binary_logloss: 0.767145\n",
      "[60]\tvalid_0's binary_logloss: 0.75412\n",
      "[70]\tvalid_0's binary_logloss: 0.744299\n"
     ]
    },
    {
     "name": "stderr",
     "output_type": "stream",
     "text": [
      "/home/nico-churrarin/Escritorio/2023 Maestria Austral/2025/Fundamentos del Aprendizaje Automatico/Ptyhon_ambientes/venv/lib/python3.11/site-packages/sklearn/utils/validation.py:2739: UserWarning: X does not have valid feature names, but LGBMClassifier was fitted with feature names\n",
      "  warnings.warn(\n"
     ]
    },
    {
     "name": "stdout",
     "output_type": "stream",
     "text": [
      "[80]\tvalid_0's binary_logloss: 0.745719\n",
      "[90]\tvalid_0's binary_logloss: 0.746239\n",
      "[100]\tvalid_0's binary_logloss: 0.737521\n",
      "[I 2025-05-17 08:04:08,891] Trial 22 finished with value: 0.5675340768277571 and parameters: {'boosting_type': 'dart', 'num_leaves': 79, 'learning_rate': 0.010343725018902801, 'feature_fraction': 0.9292350147458328, 'bagging_fraction': 0.8470207252824627, 'bagging_freq': 8, 'lambda_l1': 3.5582836040907506, 'lambda_l2': 3.697694145789875, 'min_data_in_leaf': 15, 'class_weight': 1.7044966869993612}. Best is trial 0 with value: 0.5675340768277571.\n"
     ]
    },
    {
     "name": "stderr",
     "output_type": "stream",
     "text": [
      "/home/nico-churrarin/Escritorio/2023 Maestria Austral/2025/Fundamentos del Aprendizaje Automatico/Ptyhon_ambientes/venv/lib/python3.11/site-packages/lightgbm/callback.py:333: UserWarning: Early stopping is not available in dart mode\n",
      "  _log_warning(\"Early stopping is not available in dart mode\")\n"
     ]
    },
    {
     "name": "stdout",
     "output_type": "stream",
     "text": [
      "[10]\tvalid_0's binary_logloss: 0.757642\n",
      "[20]\tvalid_0's binary_logloss: 0.755768\n",
      "[30]\tvalid_0's binary_logloss: 0.754094\n",
      "[40]\tvalid_0's binary_logloss: 0.754598\n",
      "[50]\tvalid_0's binary_logloss: 0.744286\n",
      "[60]\tvalid_0's binary_logloss: 0.735681\n",
      "[70]\tvalid_0's binary_logloss: 0.7302\n",
      "[80]\tvalid_0's binary_logloss: 0.732053\n"
     ]
    },
    {
     "name": "stderr",
     "output_type": "stream",
     "text": [
      "/home/nico-churrarin/Escritorio/2023 Maestria Austral/2025/Fundamentos del Aprendizaje Automatico/Ptyhon_ambientes/venv/lib/python3.11/site-packages/sklearn/utils/validation.py:2739: UserWarning: X does not have valid feature names, but LGBMClassifier was fitted with feature names\n",
      "  warnings.warn(\n"
     ]
    },
    {
     "name": "stdout",
     "output_type": "stream",
     "text": [
      "[90]\tvalid_0's binary_logloss: 0.732436\n",
      "[100]\tvalid_0's binary_logloss: 0.727316\n",
      "[I 2025-05-17 08:04:09,386] Trial 23 finished with value: 0.5685785536159601 and parameters: {'boosting_type': 'dart', 'num_leaves': 89, 'learning_rate': 0.01880558140163047, 'feature_fraction': 0.9724264397692481, 'bagging_fraction': 0.9344582274462011, 'bagging_freq': 9, 'lambda_l1': 2.8367431839557216, 'lambda_l2': 4.165477789505049, 'min_data_in_leaf': 25, 'class_weight': 1.5087121131147967}. Best is trial 23 with value: 0.5685785536159601.\n"
     ]
    },
    {
     "name": "stderr",
     "output_type": "stream",
     "text": [
      "/home/nico-churrarin/Escritorio/2023 Maestria Austral/2025/Fundamentos del Aprendizaje Automatico/Ptyhon_ambientes/venv/lib/python3.11/site-packages/lightgbm/callback.py:333: UserWarning: Early stopping is not available in dart mode\n",
      "  _log_warning(\"Early stopping is not available in dart mode\")\n"
     ]
    },
    {
     "name": "stdout",
     "output_type": "stream",
     "text": [
      "[10]\tvalid_0's binary_logloss: 0.92969\n",
      "[20]\tvalid_0's binary_logloss: 0.92989\n",
      "[30]\tvalid_0's binary_logloss: 0.924683\n",
      "[40]\tvalid_0's binary_logloss: 0.922232\n",
      "[50]\tvalid_0's binary_logloss: 0.882191\n",
      "[60]\tvalid_0's binary_logloss: 0.845112\n"
     ]
    },
    {
     "name": "stderr",
     "output_type": "stream",
     "text": [
      "/home/nico-churrarin/Escritorio/2023 Maestria Austral/2025/Fundamentos del Aprendizaje Automatico/Ptyhon_ambientes/venv/lib/python3.11/site-packages/sklearn/utils/validation.py:2739: UserWarning: X does not have valid feature names, but LGBMClassifier was fitted with feature names\n",
      "  warnings.warn(\n"
     ]
    },
    {
     "name": "stdout",
     "output_type": "stream",
     "text": [
      "[70]\tvalid_0's binary_logloss: 0.820879\n",
      "[80]\tvalid_0's binary_logloss: 0.825522\n",
      "[90]\tvalid_0's binary_logloss: 0.828454\n",
      "[100]\tvalid_0's binary_logloss: 0.81064\n",
      "[I 2025-05-17 08:04:10,079] Trial 24 finished with value: 0.5675340768277571 and parameters: {'boosting_type': 'dart', 'num_leaves': 92, 'learning_rate': 0.01997620557019413, 'feature_fraction': 0.9742034852511923, 'bagging_fraction': 0.9956351921890632, 'bagging_freq': 9, 'lambda_l1': 2.817809964769359, 'lambda_l2': 4.354625480973804, 'min_data_in_leaf': 21, 'class_weight': 2.852888983770759}. Best is trial 23 with value: 0.5685785536159601.\n"
     ]
    },
    {
     "name": "stderr",
     "output_type": "stream",
     "text": [
      "/home/nico-churrarin/Escritorio/2023 Maestria Austral/2025/Fundamentos del Aprendizaje Automatico/Ptyhon_ambientes/venv/lib/python3.11/site-packages/lightgbm/callback.py:333: UserWarning: Early stopping is not available in dart mode\n",
      "  _log_warning(\"Early stopping is not available in dart mode\")\n"
     ]
    },
    {
     "name": "stdout",
     "output_type": "stream",
     "text": [
      "[10]\tvalid_0's binary_logloss: 0.791973\n",
      "[20]\tvalid_0's binary_logloss: 0.791176\n",
      "[30]\tvalid_0's binary_logloss: 0.788706\n",
      "[40]\tvalid_0's binary_logloss: 0.789263\n",
      "[50]\tvalid_0's binary_logloss: 0.773791\n",
      "[60]\tvalid_0's binary_logloss: 0.758045\n",
      "[70]\tvalid_0's binary_logloss: 0.747471\n",
      "[80]\tvalid_0's binary_logloss: 0.749185\n",
      "[90]\tvalid_0's binary_logloss: 0.749743\n"
     ]
    },
    {
     "name": "stderr",
     "output_type": "stream",
     "text": [
      "/home/nico-churrarin/Escritorio/2023 Maestria Austral/2025/Fundamentos del Aprendizaje Automatico/Ptyhon_ambientes/venv/lib/python3.11/site-packages/sklearn/utils/validation.py:2739: UserWarning: X does not have valid feature names, but LGBMClassifier was fitted with feature names\n",
      "  warnings.warn(\n"
     ]
    },
    {
     "name": "stdout",
     "output_type": "stream",
     "text": [
      "[100]\tvalid_0's binary_logloss: 0.741613\n",
      "[I 2025-05-17 08:04:10,480] Trial 25 finished with value: 0.5675340768277571 and parameters: {'boosting_type': 'dart', 'num_leaves': 67, 'learning_rate': 0.01347879188169842, 'feature_fraction': 0.8778575840261507, 'bagging_fraction': 0.873772730231394, 'bagging_freq': 10, 'lambda_l1': 4.1318049318357515, 'lambda_l2': 4.966689334148281, 'min_data_in_leaf': 33, 'class_weight': 1.7725114282694996}. Best is trial 23 with value: 0.5685785536159601.\n",
      "[10]\tvalid_0's binary_logloss: 0.845398\n"
     ]
    },
    {
     "name": "stderr",
     "output_type": "stream",
     "text": [
      "/home/nico-churrarin/Escritorio/2023 Maestria Austral/2025/Fundamentos del Aprendizaje Automatico/Ptyhon_ambientes/venv/lib/python3.11/site-packages/lightgbm/callback.py:333: UserWarning: Early stopping is not available in dart mode\n",
      "  _log_warning(\"Early stopping is not available in dart mode\")\n"
     ]
    },
    {
     "name": "stdout",
     "output_type": "stream",
     "text": [
      "[20]\tvalid_0's binary_logloss: 0.840331\n",
      "[30]\tvalid_0's binary_logloss: 0.84038\n",
      "[40]\tvalid_0's binary_logloss: 0.837067\n",
      "[50]\tvalid_0's binary_logloss: 0.81213\n",
      "[60]\tvalid_0's binary_logloss: 0.789624\n",
      "[70]\tvalid_0's binary_logloss: 0.775161\n"
     ]
    },
    {
     "name": "stderr",
     "output_type": "stream",
     "text": [
      "/home/nico-churrarin/Escritorio/2023 Maestria Austral/2025/Fundamentos del Aprendizaje Automatico/Ptyhon_ambientes/venv/lib/python3.11/site-packages/sklearn/utils/validation.py:2739: UserWarning: X does not have valid feature names, but LGBMClassifier was fitted with feature names\n",
      "  warnings.warn(\n"
     ]
    },
    {
     "name": "stdout",
     "output_type": "stream",
     "text": [
      "[80]\tvalid_0's binary_logloss: 0.7796\n",
      "[90]\tvalid_0's binary_logloss: 0.780932\n",
      "[100]\tvalid_0's binary_logloss: 0.771317\n",
      "[I 2025-05-17 08:04:11,023] Trial 26 finished with value: 0.5675340768277571 and parameters: {'boosting_type': 'dart', 'num_leaves': 56, 'learning_rate': 0.01946286424710451, 'feature_fraction': 0.922503370970585, 'bagging_fraction': 0.9415585738451562, 'bagging_freq': 7, 'lambda_l1': 2.1942273712659057, 'lambda_l2': 3.1412996553791794, 'min_data_in_leaf': 14, 'class_weight': 2.169941086051457}. Best is trial 23 with value: 0.5685785536159601.\n"
     ]
    },
    {
     "name": "stderr",
     "output_type": "stream",
     "text": [
      "/home/nico-churrarin/Escritorio/2023 Maestria Austral/2025/Fundamentos del Aprendizaje Automatico/Ptyhon_ambientes/venv/lib/python3.11/site-packages/lightgbm/callback.py:333: UserWarning: Early stopping is not available in dart mode\n",
      "  _log_warning(\"Early stopping is not available in dart mode\")\n"
     ]
    },
    {
     "name": "stdout",
     "output_type": "stream",
     "text": [
      "[10]\tvalid_0's binary_logloss: 0.882967\n",
      "[20]\tvalid_0's binary_logloss: 0.879102\n",
      "[30]\tvalid_0's binary_logloss: 0.877334\n",
      "[40]\tvalid_0's binary_logloss: 0.872218\n",
      "[50]\tvalid_0's binary_logloss: 0.841601\n",
      "[60]\tvalid_0's binary_logloss: 0.8178\n"
     ]
    },
    {
     "name": "stderr",
     "output_type": "stream",
     "text": [
      "/home/nico-churrarin/Escritorio/2023 Maestria Austral/2025/Fundamentos del Aprendizaje Automatico/Ptyhon_ambientes/venv/lib/python3.11/site-packages/sklearn/utils/validation.py:2739: UserWarning: X does not have valid feature names, but LGBMClassifier was fitted with feature names\n",
      "  warnings.warn(\n"
     ]
    },
    {
     "name": "stdout",
     "output_type": "stream",
     "text": [
      "[70]\tvalid_0's binary_logloss: 0.802936\n",
      "[80]\tvalid_0's binary_logloss: 0.811243\n",
      "[90]\tvalid_0's binary_logloss: 0.815112\n",
      "[100]\tvalid_0's binary_logloss: 0.83466\n",
      "[I 2025-05-17 08:04:11,595] Trial 27 finished with value: 0.0 and parameters: {'boosting_type': 'dart', 'num_leaves': 100, 'learning_rate': 0.0327938029431604, 'feature_fraction': 0.9695141705653436, 'bagging_fraction': 0.9357618161483439, 'bagging_freq': 2, 'lambda_l1': 2.986978923498939, 'lambda_l2': 2.7517401375395627, 'min_data_in_leaf': 41, 'class_weight': 2.4550922594337448}. Best is trial 23 with value: 0.5685785536159601.\n"
     ]
    },
    {
     "name": "stderr",
     "output_type": "stream",
     "text": [
      "/home/nico-churrarin/Escritorio/2023 Maestria Austral/2025/Fundamentos del Aprendizaje Automatico/Ptyhon_ambientes/venv/lib/python3.11/site-packages/lightgbm/callback.py:333: UserWarning: Early stopping is not available in dart mode\n",
      "  _log_warning(\"Early stopping is not available in dart mode\")\n"
     ]
    },
    {
     "name": "stdout",
     "output_type": "stream",
     "text": [
      "[10]\tvalid_0's binary_logloss: 0.871344\n",
      "[20]\tvalid_0's binary_logloss: 0.867796\n",
      "[30]\tvalid_0's binary_logloss: 0.863427\n",
      "[40]\tvalid_0's binary_logloss: 0.865549\n",
      "[50]\tvalid_0's binary_logloss: 0.835468\n",
      "[60]\tvalid_0's binary_logloss: 0.80805\n"
     ]
    },
    {
     "name": "stderr",
     "output_type": "stream",
     "text": [
      "/home/nico-churrarin/Escritorio/2023 Maestria Austral/2025/Fundamentos del Aprendizaje Automatico/Ptyhon_ambientes/venv/lib/python3.11/site-packages/sklearn/utils/validation.py:2739: UserWarning: X does not have valid feature names, but LGBMClassifier was fitted with feature names\n",
      "  warnings.warn(\n"
     ]
    },
    {
     "name": "stdout",
     "output_type": "stream",
     "text": [
      "[70]\tvalid_0's binary_logloss: 0.78909\n",
      "[80]\tvalid_0's binary_logloss: 0.792197\n",
      "[90]\tvalid_0's binary_logloss: 0.794684\n",
      "[100]\tvalid_0's binary_logloss: 0.779466\n",
      "[I 2025-05-17 08:04:12,122] Trial 28 finished with value: 0.5675340768277571 and parameters: {'boosting_type': 'dart', 'num_leaves': 91, 'learning_rate': 0.013942800629085142, 'feature_fraction': 0.973797683508776, 'bagging_fraction': 0.8510039677856924, 'bagging_freq': 9, 'lambda_l1': 1.6034626448009308, 'lambda_l2': 3.506493498401521, 'min_data_in_leaf': 24, 'class_weight': 2.3722367842756515}. Best is trial 23 with value: 0.5685785536159601.\n"
     ]
    },
    {
     "name": "stderr",
     "output_type": "stream",
     "text": [
      "/home/nico-churrarin/Escritorio/2023 Maestria Austral/2025/Fundamentos del Aprendizaje Automatico/Ptyhon_ambientes/venv/lib/python3.11/site-packages/lightgbm/callback.py:333: UserWarning: Early stopping is not available in dart mode\n",
      "  _log_warning(\"Early stopping is not available in dart mode\")\n",
      "/home/nico-churrarin/Escritorio/2023 Maestria Austral/2025/Fundamentos del Aprendizaje Automatico/Ptyhon_ambientes/venv/lib/python3.11/site-packages/sklearn/utils/validation.py:2739: UserWarning: X does not have valid feature names, but LGBMClassifier was fitted with feature names\n",
      "  warnings.warn(\n"
     ]
    },
    {
     "name": "stdout",
     "output_type": "stream",
     "text": [
      "[10]\tvalid_0's binary_logloss: 0.82033\n",
      "[20]\tvalid_0's binary_logloss: 0.823207\n",
      "[30]\tvalid_0's binary_logloss: 0.825596\n",
      "[40]\tvalid_0's binary_logloss: 0.823519\n",
      "[50]\tvalid_0's binary_logloss: 0.799933\n",
      "[60]\tvalid_0's binary_logloss: 0.786353\n",
      "[70]\tvalid_0's binary_logloss: 0.837724\n",
      "[80]\tvalid_0's binary_logloss: 0.859654\n",
      "[90]\tvalid_0's binary_logloss: 0.875826\n",
      "[100]\tvalid_0's binary_logloss: 0.908277\n",
      "[I 2025-05-17 08:04:12,494] Trial 29 finished with value: 0.38875878220140514 and parameters: {'boosting_type': 'dart', 'num_leaves': 80, 'learning_rate': 0.06274615264253468, 'feature_fraction': 0.8314177925452669, 'bagging_fraction': 0.7193577534632262, 'bagging_freq': 3, 'lambda_l1': 4.5830547904261945, 'lambda_l2': 4.051327367266453, 'min_data_in_leaf': 30, 'class_weight': 2.0389834602422927}. Best is trial 23 with value: 0.5685785536159601.\n"
     ]
    }
   ],
   "source": [
    "# Ejecutar optimización\n",
    "study = optuna.create_study(direction='maximize')\n",
    "study.optimize(objective, n_trials=30, show_progress_bar=True)"
   ]
  },
  {
   "cell_type": "code",
   "execution_count": 21,
   "metadata": {},
   "outputs": [
    {
     "name": "stdout",
     "output_type": "stream",
     "text": [
      "\n",
      "Mejores hiperparámetros encontrados:\n",
      "{'boosting_type': 'dart', 'num_leaves': 89, 'learning_rate': 0.01880558140163047, 'feature_fraction': 0.9724264397692481, 'bagging_fraction': 0.9344582274462011, 'bagging_freq': 9, 'lambda_l1': 2.8367431839557216, 'lambda_l2': 4.165477789505049, 'min_data_in_leaf': 25, 'class_weight': 1.5087121131147967}\n"
     ]
    }
   ],
   "source": [
    "print(\"\\nMejores hiperparámetros encontrados:\")\n",
    "print(study.best_params)"
   ]
  },
  {
   "cell_type": "code",
   "execution_count": 23,
   "metadata": {},
   "outputs": [
    {
     "name": "stderr",
     "output_type": "stream",
     "text": [
      "/home/nico-churrarin/Escritorio/2023 Maestria Austral/2025/Fundamentos del Aprendizaje Automatico/Ptyhon_ambientes/venv/lib/python3.11/site-packages/lightgbm/callback.py:333: UserWarning: Early stopping is not available in dart mode\n",
      "  _log_warning(\"Early stopping is not available in dart mode\")\n"
     ]
    },
    {
     "name": "stdout",
     "output_type": "stream",
     "text": [
      "[10]\tvalid_0's binary_logloss: 0.694238\n",
      "[20]\tvalid_0's binary_logloss: 0.692472\n",
      "[30]\tvalid_0's binary_logloss: 0.691739\n",
      "[40]\tvalid_0's binary_logloss: 0.691883\n",
      "[50]\tvalid_0's binary_logloss: 0.691592\n",
      "[60]\tvalid_0's binary_logloss: 0.691322\n",
      "[70]\tvalid_0's binary_logloss: 0.691051\n",
      "[80]\tvalid_0's binary_logloss: 0.690954\n",
      "[90]\tvalid_0's binary_logloss: 0.690818\n",
      "[100]\tvalid_0's binary_logloss: 0.691684\n"
     ]
    },
    {
     "data": {
      "text/html": [
       "<style>#sk-container-id-3 {\n",
       "  /* Definition of color scheme common for light and dark mode */\n",
       "  --sklearn-color-text: #000;\n",
       "  --sklearn-color-text-muted: #666;\n",
       "  --sklearn-color-line: gray;\n",
       "  /* Definition of color scheme for unfitted estimators */\n",
       "  --sklearn-color-unfitted-level-0: #fff5e6;\n",
       "  --sklearn-color-unfitted-level-1: #f6e4d2;\n",
       "  --sklearn-color-unfitted-level-2: #ffe0b3;\n",
       "  --sklearn-color-unfitted-level-3: chocolate;\n",
       "  /* Definition of color scheme for fitted estimators */\n",
       "  --sklearn-color-fitted-level-0: #f0f8ff;\n",
       "  --sklearn-color-fitted-level-1: #d4ebff;\n",
       "  --sklearn-color-fitted-level-2: #b3dbfd;\n",
       "  --sklearn-color-fitted-level-3: cornflowerblue;\n",
       "\n",
       "  /* Specific color for light theme */\n",
       "  --sklearn-color-text-on-default-background: var(--sg-text-color, var(--theme-code-foreground, var(--jp-content-font-color1, black)));\n",
       "  --sklearn-color-background: var(--sg-background-color, var(--theme-background, var(--jp-layout-color0, white)));\n",
       "  --sklearn-color-border-box: var(--sg-text-color, var(--theme-code-foreground, var(--jp-content-font-color1, black)));\n",
       "  --sklearn-color-icon: #696969;\n",
       "\n",
       "  @media (prefers-color-scheme: dark) {\n",
       "    /* Redefinition of color scheme for dark theme */\n",
       "    --sklearn-color-text-on-default-background: var(--sg-text-color, var(--theme-code-foreground, var(--jp-content-font-color1, white)));\n",
       "    --sklearn-color-background: var(--sg-background-color, var(--theme-background, var(--jp-layout-color0, #111)));\n",
       "    --sklearn-color-border-box: var(--sg-text-color, var(--theme-code-foreground, var(--jp-content-font-color1, white)));\n",
       "    --sklearn-color-icon: #878787;\n",
       "  }\n",
       "}\n",
       "\n",
       "#sk-container-id-3 {\n",
       "  color: var(--sklearn-color-text);\n",
       "}\n",
       "\n",
       "#sk-container-id-3 pre {\n",
       "  padding: 0;\n",
       "}\n",
       "\n",
       "#sk-container-id-3 input.sk-hidden--visually {\n",
       "  border: 0;\n",
       "  clip: rect(1px 1px 1px 1px);\n",
       "  clip: rect(1px, 1px, 1px, 1px);\n",
       "  height: 1px;\n",
       "  margin: -1px;\n",
       "  overflow: hidden;\n",
       "  padding: 0;\n",
       "  position: absolute;\n",
       "  width: 1px;\n",
       "}\n",
       "\n",
       "#sk-container-id-3 div.sk-dashed-wrapped {\n",
       "  border: 1px dashed var(--sklearn-color-line);\n",
       "  margin: 0 0.4em 0.5em 0.4em;\n",
       "  box-sizing: border-box;\n",
       "  padding-bottom: 0.4em;\n",
       "  background-color: var(--sklearn-color-background);\n",
       "}\n",
       "\n",
       "#sk-container-id-3 div.sk-container {\n",
       "  /* jupyter's `normalize.less` sets `[hidden] { display: none; }`\n",
       "     but bootstrap.min.css set `[hidden] { display: none !important; }`\n",
       "     so we also need the `!important` here to be able to override the\n",
       "     default hidden behavior on the sphinx rendered scikit-learn.org.\n",
       "     See: https://github.com/scikit-learn/scikit-learn/issues/21755 */\n",
       "  display: inline-block !important;\n",
       "  position: relative;\n",
       "}\n",
       "\n",
       "#sk-container-id-3 div.sk-text-repr-fallback {\n",
       "  display: none;\n",
       "}\n",
       "\n",
       "div.sk-parallel-item,\n",
       "div.sk-serial,\n",
       "div.sk-item {\n",
       "  /* draw centered vertical line to link estimators */\n",
       "  background-image: linear-gradient(var(--sklearn-color-text-on-default-background), var(--sklearn-color-text-on-default-background));\n",
       "  background-size: 2px 100%;\n",
       "  background-repeat: no-repeat;\n",
       "  background-position: center center;\n",
       "}\n",
       "\n",
       "/* Parallel-specific style estimator block */\n",
       "\n",
       "#sk-container-id-3 div.sk-parallel-item::after {\n",
       "  content: \"\";\n",
       "  width: 100%;\n",
       "  border-bottom: 2px solid var(--sklearn-color-text-on-default-background);\n",
       "  flex-grow: 1;\n",
       "}\n",
       "\n",
       "#sk-container-id-3 div.sk-parallel {\n",
       "  display: flex;\n",
       "  align-items: stretch;\n",
       "  justify-content: center;\n",
       "  background-color: var(--sklearn-color-background);\n",
       "  position: relative;\n",
       "}\n",
       "\n",
       "#sk-container-id-3 div.sk-parallel-item {\n",
       "  display: flex;\n",
       "  flex-direction: column;\n",
       "}\n",
       "\n",
       "#sk-container-id-3 div.sk-parallel-item:first-child::after {\n",
       "  align-self: flex-end;\n",
       "  width: 50%;\n",
       "}\n",
       "\n",
       "#sk-container-id-3 div.sk-parallel-item:last-child::after {\n",
       "  align-self: flex-start;\n",
       "  width: 50%;\n",
       "}\n",
       "\n",
       "#sk-container-id-3 div.sk-parallel-item:only-child::after {\n",
       "  width: 0;\n",
       "}\n",
       "\n",
       "/* Serial-specific style estimator block */\n",
       "\n",
       "#sk-container-id-3 div.sk-serial {\n",
       "  display: flex;\n",
       "  flex-direction: column;\n",
       "  align-items: center;\n",
       "  background-color: var(--sklearn-color-background);\n",
       "  padding-right: 1em;\n",
       "  padding-left: 1em;\n",
       "}\n",
       "\n",
       "\n",
       "/* Toggleable style: style used for estimator/Pipeline/ColumnTransformer box that is\n",
       "clickable and can be expanded/collapsed.\n",
       "- Pipeline and ColumnTransformer use this feature and define the default style\n",
       "- Estimators will overwrite some part of the style using the `sk-estimator` class\n",
       "*/\n",
       "\n",
       "/* Pipeline and ColumnTransformer style (default) */\n",
       "\n",
       "#sk-container-id-3 div.sk-toggleable {\n",
       "  /* Default theme specific background. It is overwritten whether we have a\n",
       "  specific estimator or a Pipeline/ColumnTransformer */\n",
       "  background-color: var(--sklearn-color-background);\n",
       "}\n",
       "\n",
       "/* Toggleable label */\n",
       "#sk-container-id-3 label.sk-toggleable__label {\n",
       "  cursor: pointer;\n",
       "  display: flex;\n",
       "  width: 100%;\n",
       "  margin-bottom: 0;\n",
       "  padding: 0.5em;\n",
       "  box-sizing: border-box;\n",
       "  text-align: center;\n",
       "  align-items: start;\n",
       "  justify-content: space-between;\n",
       "  gap: 0.5em;\n",
       "}\n",
       "\n",
       "#sk-container-id-3 label.sk-toggleable__label .caption {\n",
       "  font-size: 0.6rem;\n",
       "  font-weight: lighter;\n",
       "  color: var(--sklearn-color-text-muted);\n",
       "}\n",
       "\n",
       "#sk-container-id-3 label.sk-toggleable__label-arrow:before {\n",
       "  /* Arrow on the left of the label */\n",
       "  content: \"▸\";\n",
       "  float: left;\n",
       "  margin-right: 0.25em;\n",
       "  color: var(--sklearn-color-icon);\n",
       "}\n",
       "\n",
       "#sk-container-id-3 label.sk-toggleable__label-arrow:hover:before {\n",
       "  color: var(--sklearn-color-text);\n",
       "}\n",
       "\n",
       "/* Toggleable content - dropdown */\n",
       "\n",
       "#sk-container-id-3 div.sk-toggleable__content {\n",
       "  max-height: 0;\n",
       "  max-width: 0;\n",
       "  overflow: hidden;\n",
       "  text-align: left;\n",
       "  /* unfitted */\n",
       "  background-color: var(--sklearn-color-unfitted-level-0);\n",
       "}\n",
       "\n",
       "#sk-container-id-3 div.sk-toggleable__content.fitted {\n",
       "  /* fitted */\n",
       "  background-color: var(--sklearn-color-fitted-level-0);\n",
       "}\n",
       "\n",
       "#sk-container-id-3 div.sk-toggleable__content pre {\n",
       "  margin: 0.2em;\n",
       "  border-radius: 0.25em;\n",
       "  color: var(--sklearn-color-text);\n",
       "  /* unfitted */\n",
       "  background-color: var(--sklearn-color-unfitted-level-0);\n",
       "}\n",
       "\n",
       "#sk-container-id-3 div.sk-toggleable__content.fitted pre {\n",
       "  /* unfitted */\n",
       "  background-color: var(--sklearn-color-fitted-level-0);\n",
       "}\n",
       "\n",
       "#sk-container-id-3 input.sk-toggleable__control:checked~div.sk-toggleable__content {\n",
       "  /* Expand drop-down */\n",
       "  max-height: 200px;\n",
       "  max-width: 100%;\n",
       "  overflow: auto;\n",
       "}\n",
       "\n",
       "#sk-container-id-3 input.sk-toggleable__control:checked~label.sk-toggleable__label-arrow:before {\n",
       "  content: \"▾\";\n",
       "}\n",
       "\n",
       "/* Pipeline/ColumnTransformer-specific style */\n",
       "\n",
       "#sk-container-id-3 div.sk-label input.sk-toggleable__control:checked~label.sk-toggleable__label {\n",
       "  color: var(--sklearn-color-text);\n",
       "  background-color: var(--sklearn-color-unfitted-level-2);\n",
       "}\n",
       "\n",
       "#sk-container-id-3 div.sk-label.fitted input.sk-toggleable__control:checked~label.sk-toggleable__label {\n",
       "  background-color: var(--sklearn-color-fitted-level-2);\n",
       "}\n",
       "\n",
       "/* Estimator-specific style */\n",
       "\n",
       "/* Colorize estimator box */\n",
       "#sk-container-id-3 div.sk-estimator input.sk-toggleable__control:checked~label.sk-toggleable__label {\n",
       "  /* unfitted */\n",
       "  background-color: var(--sklearn-color-unfitted-level-2);\n",
       "}\n",
       "\n",
       "#sk-container-id-3 div.sk-estimator.fitted input.sk-toggleable__control:checked~label.sk-toggleable__label {\n",
       "  /* fitted */\n",
       "  background-color: var(--sklearn-color-fitted-level-2);\n",
       "}\n",
       "\n",
       "#sk-container-id-3 div.sk-label label.sk-toggleable__label,\n",
       "#sk-container-id-3 div.sk-label label {\n",
       "  /* The background is the default theme color */\n",
       "  color: var(--sklearn-color-text-on-default-background);\n",
       "}\n",
       "\n",
       "/* On hover, darken the color of the background */\n",
       "#sk-container-id-3 div.sk-label:hover label.sk-toggleable__label {\n",
       "  color: var(--sklearn-color-text);\n",
       "  background-color: var(--sklearn-color-unfitted-level-2);\n",
       "}\n",
       "\n",
       "/* Label box, darken color on hover, fitted */\n",
       "#sk-container-id-3 div.sk-label.fitted:hover label.sk-toggleable__label.fitted {\n",
       "  color: var(--sklearn-color-text);\n",
       "  background-color: var(--sklearn-color-fitted-level-2);\n",
       "}\n",
       "\n",
       "/* Estimator label */\n",
       "\n",
       "#sk-container-id-3 div.sk-label label {\n",
       "  font-family: monospace;\n",
       "  font-weight: bold;\n",
       "  display: inline-block;\n",
       "  line-height: 1.2em;\n",
       "}\n",
       "\n",
       "#sk-container-id-3 div.sk-label-container {\n",
       "  text-align: center;\n",
       "}\n",
       "\n",
       "/* Estimator-specific */\n",
       "#sk-container-id-3 div.sk-estimator {\n",
       "  font-family: monospace;\n",
       "  border: 1px dotted var(--sklearn-color-border-box);\n",
       "  border-radius: 0.25em;\n",
       "  box-sizing: border-box;\n",
       "  margin-bottom: 0.5em;\n",
       "  /* unfitted */\n",
       "  background-color: var(--sklearn-color-unfitted-level-0);\n",
       "}\n",
       "\n",
       "#sk-container-id-3 div.sk-estimator.fitted {\n",
       "  /* fitted */\n",
       "  background-color: var(--sklearn-color-fitted-level-0);\n",
       "}\n",
       "\n",
       "/* on hover */\n",
       "#sk-container-id-3 div.sk-estimator:hover {\n",
       "  /* unfitted */\n",
       "  background-color: var(--sklearn-color-unfitted-level-2);\n",
       "}\n",
       "\n",
       "#sk-container-id-3 div.sk-estimator.fitted:hover {\n",
       "  /* fitted */\n",
       "  background-color: var(--sklearn-color-fitted-level-2);\n",
       "}\n",
       "\n",
       "/* Specification for estimator info (e.g. \"i\" and \"?\") */\n",
       "\n",
       "/* Common style for \"i\" and \"?\" */\n",
       "\n",
       ".sk-estimator-doc-link,\n",
       "a:link.sk-estimator-doc-link,\n",
       "a:visited.sk-estimator-doc-link {\n",
       "  float: right;\n",
       "  font-size: smaller;\n",
       "  line-height: 1em;\n",
       "  font-family: monospace;\n",
       "  background-color: var(--sklearn-color-background);\n",
       "  border-radius: 1em;\n",
       "  height: 1em;\n",
       "  width: 1em;\n",
       "  text-decoration: none !important;\n",
       "  margin-left: 0.5em;\n",
       "  text-align: center;\n",
       "  /* unfitted */\n",
       "  border: var(--sklearn-color-unfitted-level-1) 1pt solid;\n",
       "  color: var(--sklearn-color-unfitted-level-1);\n",
       "}\n",
       "\n",
       ".sk-estimator-doc-link.fitted,\n",
       "a:link.sk-estimator-doc-link.fitted,\n",
       "a:visited.sk-estimator-doc-link.fitted {\n",
       "  /* fitted */\n",
       "  border: var(--sklearn-color-fitted-level-1) 1pt solid;\n",
       "  color: var(--sklearn-color-fitted-level-1);\n",
       "}\n",
       "\n",
       "/* On hover */\n",
       "div.sk-estimator:hover .sk-estimator-doc-link:hover,\n",
       ".sk-estimator-doc-link:hover,\n",
       "div.sk-label-container:hover .sk-estimator-doc-link:hover,\n",
       ".sk-estimator-doc-link:hover {\n",
       "  /* unfitted */\n",
       "  background-color: var(--sklearn-color-unfitted-level-3);\n",
       "  color: var(--sklearn-color-background);\n",
       "  text-decoration: none;\n",
       "}\n",
       "\n",
       "div.sk-estimator.fitted:hover .sk-estimator-doc-link.fitted:hover,\n",
       ".sk-estimator-doc-link.fitted:hover,\n",
       "div.sk-label-container:hover .sk-estimator-doc-link.fitted:hover,\n",
       ".sk-estimator-doc-link.fitted:hover {\n",
       "  /* fitted */\n",
       "  background-color: var(--sklearn-color-fitted-level-3);\n",
       "  color: var(--sklearn-color-background);\n",
       "  text-decoration: none;\n",
       "}\n",
       "\n",
       "/* Span, style for the box shown on hovering the info icon */\n",
       ".sk-estimator-doc-link span {\n",
       "  display: none;\n",
       "  z-index: 9999;\n",
       "  position: relative;\n",
       "  font-weight: normal;\n",
       "  right: .2ex;\n",
       "  padding: .5ex;\n",
       "  margin: .5ex;\n",
       "  width: min-content;\n",
       "  min-width: 20ex;\n",
       "  max-width: 50ex;\n",
       "  color: var(--sklearn-color-text);\n",
       "  box-shadow: 2pt 2pt 4pt #999;\n",
       "  /* unfitted */\n",
       "  background: var(--sklearn-color-unfitted-level-0);\n",
       "  border: .5pt solid var(--sklearn-color-unfitted-level-3);\n",
       "}\n",
       "\n",
       ".sk-estimator-doc-link.fitted span {\n",
       "  /* fitted */\n",
       "  background: var(--sklearn-color-fitted-level-0);\n",
       "  border: var(--sklearn-color-fitted-level-3);\n",
       "}\n",
       "\n",
       ".sk-estimator-doc-link:hover span {\n",
       "  display: block;\n",
       "}\n",
       "\n",
       "/* \"?\"-specific style due to the `<a>` HTML tag */\n",
       "\n",
       "#sk-container-id-3 a.estimator_doc_link {\n",
       "  float: right;\n",
       "  font-size: 1rem;\n",
       "  line-height: 1em;\n",
       "  font-family: monospace;\n",
       "  background-color: var(--sklearn-color-background);\n",
       "  border-radius: 1rem;\n",
       "  height: 1rem;\n",
       "  width: 1rem;\n",
       "  text-decoration: none;\n",
       "  /* unfitted */\n",
       "  color: var(--sklearn-color-unfitted-level-1);\n",
       "  border: var(--sklearn-color-unfitted-level-1) 1pt solid;\n",
       "}\n",
       "\n",
       "#sk-container-id-3 a.estimator_doc_link.fitted {\n",
       "  /* fitted */\n",
       "  border: var(--sklearn-color-fitted-level-1) 1pt solid;\n",
       "  color: var(--sklearn-color-fitted-level-1);\n",
       "}\n",
       "\n",
       "/* On hover */\n",
       "#sk-container-id-3 a.estimator_doc_link:hover {\n",
       "  /* unfitted */\n",
       "  background-color: var(--sklearn-color-unfitted-level-3);\n",
       "  color: var(--sklearn-color-background);\n",
       "  text-decoration: none;\n",
       "}\n",
       "\n",
       "#sk-container-id-3 a.estimator_doc_link.fitted:hover {\n",
       "  /* fitted */\n",
       "  background-color: var(--sklearn-color-fitted-level-3);\n",
       "}\n",
       "</style><div id=\"sk-container-id-3\" class=\"sk-top-container\"><div class=\"sk-text-repr-fallback\"><pre>LGBMClassifier(bagging_fraction=0.9344582274462011, bagging_freq=9,\n",
       "               boosting_type=&#x27;dart&#x27;, class_weight=&#x27;balanced&#x27;,\n",
       "               feature_fraction=0.9724264397692481,\n",
       "               lambda_l1=2.8367431839557216, lambda_l2=4.165477789505049,\n",
       "               learning_rate=0.01880558140163047, min_data_in_leaf=25,\n",
       "               num_leaves=89, verbose=-1)</pre><b>In a Jupyter environment, please rerun this cell to show the HTML representation or trust the notebook. <br />On GitHub, the HTML representation is unable to render, please try loading this page with nbviewer.org.</b></div><div class=\"sk-container\" hidden><div class=\"sk-item\"><div class=\"sk-estimator fitted sk-toggleable\"><input class=\"sk-toggleable__control sk-hidden--visually\" id=\"sk-estimator-id-3\" type=\"checkbox\" checked><label for=\"sk-estimator-id-3\" class=\"sk-toggleable__label fitted sk-toggleable__label-arrow\"><div><div>LGBMClassifier</div></div><div><span class=\"sk-estimator-doc-link fitted\">i<span>Fitted</span></span></div></label><div class=\"sk-toggleable__content fitted\"><pre>LGBMClassifier(bagging_fraction=0.9344582274462011, bagging_freq=9,\n",
       "               boosting_type=&#x27;dart&#x27;, class_weight=&#x27;balanced&#x27;,\n",
       "               feature_fraction=0.9724264397692481,\n",
       "               lambda_l1=2.8367431839557216, lambda_l2=4.165477789505049,\n",
       "               learning_rate=0.01880558140163047, min_data_in_leaf=25,\n",
       "               num_leaves=89, verbose=-1)</pre></div> </div></div></div></div>"
      ],
      "text/plain": [
       "LGBMClassifier(bagging_fraction=0.9344582274462011, bagging_freq=9,\n",
       "               boosting_type='dart', class_weight='balanced',\n",
       "               feature_fraction=0.9724264397692481,\n",
       "               lambda_l1=2.8367431839557216, lambda_l2=4.165477789505049,\n",
       "               learning_rate=0.01880558140163047, min_data_in_leaf=25,\n",
       "               num_leaves=89, verbose=-1)"
      ]
     },
     "execution_count": 23,
     "metadata": {},
     "output_type": "execute_result"
    }
   ],
   "source": [
    "# # Entrenar modelo final con mejores parámetros\n",
    "best_params = study.best_params\n",
    "best_params.pop('class_weight', None)\n",
    "best_params.update({\n",
    "    'verbose': -1,\n",
    "    'class_weight': 'balanced'\n",
    "})\n",
    "\n",
    "\n",
    "final_model = lgb.LGBMClassifier(**best_params)\n",
    "final_model.fit(X_train_processed, y_resampled,\n",
    "                eval_set=[(X_test_processed, y_test)],\n",
    "                callbacks=[\n",
    "                        lgb.early_stopping(stopping_rounds=50),   # detiene si no mejora en 50 iter\n",
    "                        lgb.log_evaluation(period=10)             # imprime log cada 10 iter\n",
    "                        ])\n"
   ]
  },
  {
   "cell_type": "markdown",
   "metadata": {},
   "source": [
    "# Evaluacion por empresa"
   ]
  },
  {
   "cell_type": "code",
   "execution_count": 24,
   "metadata": {},
   "outputs": [],
   "source": [
    "def evaluate_by_company(model, X_test, y_test, preprocessor):\n",
    "    results = []\n",
    "    X_test_processed = preprocessor.transform(X_test)\n",
    "    \n",
    "    for empresa in X_test['nombre'].unique():\n",
    "        mask = (X_test['nombre'] == empresa)\n",
    "        if sum(mask) > 5:  # Mínimo 5 muestras\n",
    "            y_pred = model.predict(X_test_processed[mask])\n",
    "            y_true = y_test[mask]\n",
    "            \n",
    "            precision, recall, f1, _ = precision_recall_fscore_support(\n",
    "                y_true, y_pred, average='binary', zero_division=0\n",
    "            )\n",
    "            results.append({\n",
    "                'Empresa': empresa,\n",
    "                'Muestras': sum(mask),\n",
    "                'Accuracy': accuracy_score(y_true, y_pred),\n",
    "                'Precision': precision,\n",
    "                'Recall': recall,\n",
    "                'F1': f1\n",
    "            })\n",
    "    \n",
    "    return pd.DataFrame(results)"
   ]
  },
  {
   "cell_type": "code",
   "execution_count": 191,
   "metadata": {},
   "outputs": [
    {
     "name": "stdout",
     "output_type": "stream",
     "text": [
      "\n",
      "Resultados por empresa:\n",
      "  Empresa  Muestras  Accuracy  Precision    Recall        F1\n",
      "3   AAPLD        65  0.569231   0.485714  0.629630  0.548387\n",
      "7    XOMD        65  0.523077   0.409091  0.782609  0.537313\n",
      "5   MSFTD        65  0.476923   0.404762  0.653846  0.500000\n",
      "8    TEND        61  0.606557   0.461538  0.545455  0.500000\n",
      "6   DESPD        62  0.419355   0.354167  0.772727  0.485714\n",
      "2   NVDAD        65  0.446154   0.368421  0.538462  0.437500\n",
      "0   MELID        65  0.538462   0.500000  0.266667  0.347826\n",
      "4   VISTD        65  0.538462   0.363636  0.333333  0.347826\n",
      "1     KOD        65  0.507692   0.411765  0.241379  0.304348\n"
     ]
    },
    {
     "name": "stderr",
     "output_type": "stream",
     "text": [
      "/home/nico-churrarin/Escritorio/2023 Maestria Austral/2025/Fundamentos del Aprendizaje Automatico/Ptyhon_ambientes/venv/lib/python3.11/site-packages/sklearn/utils/validation.py:2739: UserWarning: X does not have valid feature names, but LGBMClassifier was fitted with feature names\n",
      "  warnings.warn(\n",
      "/home/nico-churrarin/Escritorio/2023 Maestria Austral/2025/Fundamentos del Aprendizaje Automatico/Ptyhon_ambientes/venv/lib/python3.11/site-packages/sklearn/utils/validation.py:2739: UserWarning: X does not have valid feature names, but LGBMClassifier was fitted with feature names\n",
      "  warnings.warn(\n",
      "/home/nico-churrarin/Escritorio/2023 Maestria Austral/2025/Fundamentos del Aprendizaje Automatico/Ptyhon_ambientes/venv/lib/python3.11/site-packages/sklearn/utils/validation.py:2739: UserWarning: X does not have valid feature names, but LGBMClassifier was fitted with feature names\n",
      "  warnings.warn(\n",
      "/home/nico-churrarin/Escritorio/2023 Maestria Austral/2025/Fundamentos del Aprendizaje Automatico/Ptyhon_ambientes/venv/lib/python3.11/site-packages/sklearn/utils/validation.py:2739: UserWarning: X does not have valid feature names, but LGBMClassifier was fitted with feature names\n",
      "  warnings.warn(\n",
      "/home/nico-churrarin/Escritorio/2023 Maestria Austral/2025/Fundamentos del Aprendizaje Automatico/Ptyhon_ambientes/venv/lib/python3.11/site-packages/sklearn/utils/validation.py:2739: UserWarning: X does not have valid feature names, but LGBMClassifier was fitted with feature names\n",
      "  warnings.warn(\n",
      "/home/nico-churrarin/Escritorio/2023 Maestria Austral/2025/Fundamentos del Aprendizaje Automatico/Ptyhon_ambientes/venv/lib/python3.11/site-packages/sklearn/utils/validation.py:2739: UserWarning: X does not have valid feature names, but LGBMClassifier was fitted with feature names\n",
      "  warnings.warn(\n",
      "/home/nico-churrarin/Escritorio/2023 Maestria Austral/2025/Fundamentos del Aprendizaje Automatico/Ptyhon_ambientes/venv/lib/python3.11/site-packages/sklearn/utils/validation.py:2739: UserWarning: X does not have valid feature names, but LGBMClassifier was fitted with feature names\n",
      "  warnings.warn(\n",
      "/home/nico-churrarin/Escritorio/2023 Maestria Austral/2025/Fundamentos del Aprendizaje Automatico/Ptyhon_ambientes/venv/lib/python3.11/site-packages/sklearn/utils/validation.py:2739: UserWarning: X does not have valid feature names, but LGBMClassifier was fitted with feature names\n",
      "  warnings.warn(\n",
      "/home/nico-churrarin/Escritorio/2023 Maestria Austral/2025/Fundamentos del Aprendizaje Automatico/Ptyhon_ambientes/venv/lib/python3.11/site-packages/sklearn/utils/validation.py:2739: UserWarning: X does not have valid feature names, but LGBMClassifier was fitted with feature names\n",
      "  warnings.warn(\n"
     ]
    }
   ],
   "source": [
    "results_df = evaluate_by_company(final_model, X_test, y_test, preprocessor)\n",
    "print(\"\\nResultados por empresa:\")\n",
    "print(results_df.sort_values('F1', ascending=False))\n"
   ]
  },
  {
   "cell_type": "markdown",
   "metadata": {},
   "source": [
    "#  BACKTESTING REALISTA POR EMPRESA"
   ]
  },
  {
   "cell_type": "code",
   "execution_count": 25,
   "metadata": {},
   "outputs": [],
   "source": [
    "def backtesting_strategy(df_test, model, preprocessor, proba_threshold=0.65):\n",
    "    df_test = df_test.copy()\n",
    "    X_test_processed = preprocessor.transform(df_test)\n",
    "    \n",
    "    # Predicciones\n",
    "    df_test['pred_proba'] = model.predict_proba(X_test_processed)[:, 1]\n",
    "    \n",
    "    # Umbral de volumen (percentil 75 por empresa)\n",
    "    df_test['volumen_threshold'] = df_test.groupby('nombre')['volumen_operado'].transform(\n",
    "        lambda x: x.quantile(0.75)\n",
    "    )\n",
    "    \n",
    "    # Reglas de decisión\n",
    "    df_test['decision'] = np.where(\n",
    "        (df_test['pred_proba'] > proba_threshold) & \n",
    "        (df_test['volumen_operado'] > df_test['volumen_threshold']),\n",
    "        1, 0  # 1=COMPRAR, 0=NO OPERAR\n",
    "    )\n",
    "    \n",
    "    # Retornos netos (asumiendo 0.1% de comisión)\n",
    "    df_test['retorno_neto'] = df_test['decision'] * (df_test['variacion_porcentaje'].shift(-1) - 0.001)\n",
    "    \n",
    "    return df_test"
   ]
  },
  {
   "cell_type": "code",
   "execution_count": 26,
   "metadata": {},
   "outputs": [
    {
     "name": "stdout",
     "output_type": "stream",
     "text": [
      "\n",
      "Retorno acumulado por empresa:\n",
      "nombre\n",
      "AAPLD    0.0\n",
      "DESPD    0.0\n",
      "KOD      0.0\n",
      "MELID    0.0\n",
      "MSFTD    0.0\n",
      "NVDAD    0.0\n",
      "TEND     0.0\n",
      "VISTD    0.0\n",
      "XOMD     0.0\n",
      "Name: retorno_neto, dtype: float64\n"
     ]
    },
    {
     "name": "stderr",
     "output_type": "stream",
     "text": [
      "/home/nico-churrarin/Escritorio/2023 Maestria Austral/2025/Fundamentos del Aprendizaje Automatico/Ptyhon_ambientes/venv/lib/python3.11/site-packages/sklearn/utils/validation.py:2739: UserWarning: X does not have valid feature names, but LGBMClassifier was fitted with feature names\n",
      "  warnings.warn(\n"
     ]
    }
   ],
   "source": [
    "df_backtest = backtesting_strategy(X_test, final_model, preprocessor)\n",
    "print(\"\\nRetorno acumulado por empresa:\")\n",
    "print(df_backtest.groupby('nombre')['retorno_neto'].sum().sort_values(ascending=False))"
   ]
  },
  {
   "cell_type": "markdown",
   "metadata": {},
   "source": [
    "# INTERPRETABILIDAD (SHAP VALUES)"
   ]
  },
  {
   "cell_type": "code",
   "execution_count": 27,
   "metadata": {},
   "outputs": [
    {
     "name": "stderr",
     "output_type": "stream",
     "text": [
      "/home/nico-churrarin/Escritorio/2023 Maestria Austral/2025/Fundamentos del Aprendizaje Automatico/Ptyhon_ambientes/venv/lib/python3.11/site-packages/shap/explainers/_tree.py:583: UserWarning: LightGBM binary classifier with TreeExplainer shap values output has changed to a list of ndarray\n",
      "  warnings.warn(\n"
     ]
    },
    {
     "data": {
      "image/png": "[encoded data removed]",
      "text/plain": [
       "<Figure size 800x750 with 1 Axes>"
      ]
     },
     "metadata": {},
     "output_type": "display_data"
    }
   ],
   "source": [
    "# Ejemplo para una empresa específica\n",
    "empresa_ejemplo = \"VISTD\"\n",
    "mask_ejemplo = (X_test['nombre'] == empresa_ejemplo)\n",
    "\n",
    "\n",
    "# 1. Crea el explainer\n",
    "explainer = shap.TreeExplainer(final_model)\n",
    "\n",
    "# 2. Filtra los datos de la empresa de ejemplo y transforma\n",
    "X_emp = preprocessor.transform(X_test[mask_ejemplo])\n",
    "\n",
    "# 3. Calcula los valores SHAP\n",
    "#    En problema binario, shap_values[1] son los valores para la clase “1” (p.ej. “sube”)\n",
    "shap_vals = explainer.shap_values(X_emp)[1]\n",
    "# 4. Asegúrate de que shap_vals sea 2D (n_samples × n_features)\n",
    "if shap_vals.ndim == 1:\n",
    "    shap_vals = shap_vals.reshape(1, -1)\n",
    "\n",
    "# 5. Dibuja el bar plot\n",
    "\n",
    "shap.summary_plot(\n",
    "    shap_vals,\n",
    "    X_emp,\n",
    "    feature_names=preprocessor.get_feature_names_out(),\n",
    "    plot_type=\"bar\"\n",
    ")\n"
   ]
  },
  {
   "cell_type": "markdown",
   "metadata": {},
   "source": [
    "# 7. GUARDAR MODELO Y FEATURES"
   ]
  },
  {
   "cell_type": "code",
   "execution_count": 29,
   "metadata": {},
   "outputs": [
    {
     "name": "stdout",
     "output_type": "stream",
     "text": [
      "\n",
      "¡Modelo entrenado y guardado correctamente!\n"
     ]
    }
   ],
   "source": [
    "joblib.dump(study, 'modelo_lightgbm.pkl')\n",
    "joblib.dump(scaler, 'scaler.pkl')\n",
    "pd.Series(all_features).to_csv('features_seleccionadas.csv', index=False)\n",
    "\n",
    "print(\"\\n¡Modelo entrenado y guardado correctamente!\")"
   ]
  }
 ],
 "metadata": {
  "kernelspec": {
   "display_name": "venv",
   "language": "python",
   "name": "python3"
  },
  "language_info": {
   "codemirror_mode": {
    "name": "ipython",
    "version": 3
   },
   "file_extension": ".py",
   "mimetype": "text/x-python",
   "name": "python",
   "nbconvert_exporter": "python",
   "pygments_lexer": "ipython3",
   "version": "3.11.7"
  }
 },
 "nbformat": 4,
 "nbformat_minor": 2
}
