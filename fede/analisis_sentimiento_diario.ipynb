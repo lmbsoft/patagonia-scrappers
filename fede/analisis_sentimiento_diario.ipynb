{
 "cells": [
  {
   "cell_type": "code",
   "execution_count": 3,
   "id": "a693040b",
   "metadata": {},
   "outputs": [],
   "source": [
    "from pathlib import Path\n",
    "import pandas as pd"
   ]
  },
  {
   "cell_type": "code",
   "execution_count": null,
   "id": "888f68a3",
   "metadata": {},
   "outputs": [
    {
     "ename": "NameError",
     "evalue": "name '__file__' is not defined",
     "output_type": "error",
     "traceback": [
      "\u001b[31m---------------------------------------------------------------------------\u001b[39m",
      "\u001b[31mNameError\u001b[39m                                 Traceback (most recent call last)",
      "\u001b[36mCell\u001b[39m\u001b[36m \u001b[39m\u001b[32mIn[4]\u001b[39m\u001b[32m, line 2\u001b[39m\n\u001b[32m      1\u001b[39m \u001b[38;5;66;03m# Directorios\u001b[39;00m\n\u001b[32m----> \u001b[39m\u001b[32m2\u001b[39m base_dir = Path(\u001b[34;43m__file__\u001b[39;49m).resolve().parent\n\u001b[32m      4\u001b[39m \u001b[38;5;66;03m# Rutas de CSVs\u001b[39;00m\n\u001b[32m      5\u001b[39m path_csv_hist = base_dir.parent / \u001b[33m\"\u001b[39m\u001b[33mfranco\u001b[39m\u001b[33m\"\u001b[39m / \u001b[33m\"\u001b[39m\u001b[33mAPI-connect\u001b[39m\u001b[33m\"\u001b[39m / \u001b[33m\"\u001b[39m\u001b[33mposts_con_sentimiento_historia.csv\u001b[39m\u001b[33m\"\u001b[39m\n",
      "\u001b[31mNameError\u001b[39m: name '__file__' is not defined"
     ]
    }
   ],
   "source": [
    "# Directorios\n",
    "base_dir = Path().resolve()\n",
    "\n",
    "# Rutas de CSVs\n",
    "path_csv_hist = base_dir.parent / \"franco\" / \"API-connect\" / \"posts_con_sentimiento_historia.csv\"\n",
    "path_csv_agrupado = base_dir.parent / \"franco\" / \"API-connect\" / \"analisis_sentimiento_diario.csv\""
   ]
  },
  {
   "cell_type": "code",
   "execution_count": null,
   "id": "2fef3891",
   "metadata": {},
   "outputs": [],
   "source": [
    "# Lectura CSVs\n",
    "df_hist = pd.read_csv(path_csv_hist)\n",
    "df_diario = pd.read_csv(path_csv_agrupado)\n",
    "df_diario = df_diario.rename(columns={\"date\": \"fecha\"})"
   ]
  },
  {
   "cell_type": "code",
   "execution_count": null,
   "id": "7c7c572c",
   "metadata": {},
   "outputs": [],
   "source": [
    "df_diario.head()"
   ]
  },
  {
   "cell_type": "code",
   "execution_count": null,
   "id": "2d427d58",
   "metadata": {},
   "outputs": [],
   "source": [
    "# Transformaciones\n",
    "df_diario['fecha'] = pd.to_datetime(df_diario['fecha'], utc=True, errors='coerce')\n",
    "df_hist['created_at'] = pd.to_datetime(df['created_at'], utc=True, errors='coerce')\n",
    "\n",
    "\n",
    "# recorto horarios\n",
    "df_diario['fecha'] = df_diario['fecha'].dt.date\n",
    "df['fecha'] = df['created_at'].dt.date\n",
    "\n",
    "# 1. Asegurarte de que created_at sea datetime\n",
    "df = df_hist.copy()\n",
    "\n"
   ]
  }
 ],
 "metadata": {
  "kernelspec": {
   "display_name": "Python 3",
   "language": "python",
   "name": "python3"
  },
  "language_info": {
   "codemirror_mode": {
    "name": "ipython",
    "version": 3
   },
   "file_extension": ".py",
   "mimetype": "text/x-python",
   "name": "python",
   "nbconvert_exporter": "python",
   "pygments_lexer": "ipython3",
   "version": "3.13.3"
  }
 },
 "nbformat": 4,
 "nbformat_minor": 5
}
